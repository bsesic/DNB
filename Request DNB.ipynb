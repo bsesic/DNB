{
 "cells": [
  {
   "cell_type": "markdown",
   "source": [
    "# Request all Jewish periodica from the DNB catalog with the SRU Interface\n",
    " We use sruthi a python library for the SRU interface.\n",
    " More information here: https://github.com/metaodi/sruthi"
   ],
   "metadata": {
    "collapsed": false
   },
   "id": "7047007039e7bfe3"
  },
  {
   "cell_type": "code",
   "source": [
    "!pip install sruthi"
   ],
   "metadata": {
    "collapsed": false,
    "ExecuteTime": {
     "end_time": "2024-04-22T08:13:10.931087Z",
     "start_time": "2024-04-22T08:13:08.266429Z"
    }
   },
   "id": "56261c770a2fce24",
   "outputs": [
    {
     "name": "stdout",
     "output_type": "stream",
     "text": [
      "\u001B[33mWARNING: Skipping /Users/benni/.venv/lib/python3.11/site-packages/pandas-1.5.3.dist-info due to invalid metadata entry 'name'\u001B[0m\u001B[33m\r\n",
      "\u001B[0m\u001B[33mWARNING: Skipping /Users/benni/.venv/lib/python3.11/site-packages/pandas-1.5.3.dist-info due to invalid metadata entry 'name'\u001B[0m\u001B[33m\r\n",
      "\u001B[0m\u001B[33mWARNING: Skipping /Users/benni/.venv/lib/python3.11/site-packages/numpy-1.24.2.dist-info due to invalid metadata entry 'name'\u001B[0m\u001B[33m\r\n",
      "\u001B[0mRequirement already satisfied: sruthi in /Users/benni/.venv/lib/python3.11/site-packages (2.0.0)\r\n",
      "Requirement already satisfied: requests in /Users/benni/.venv/lib/python3.11/site-packages (from sruthi) (2.28.1)\r\n",
      "Requirement already satisfied: defusedxml in /Users/benni/.venv/lib/python3.11/site-packages (from sruthi) (0.7.1)\r\n",
      "Requirement already satisfied: xmltodict in /Users/benni/.venv/lib/python3.11/site-packages (from sruthi) (0.13.0)\r\n",
      "Requirement already satisfied: flatten-dict in /Users/benni/.venv/lib/python3.11/site-packages (from sruthi) (0.4.2)\r\n",
      "Requirement already satisfied: six<2.0,>=1.12 in /Users/benni/.venv/lib/python3.11/site-packages (from flatten-dict->sruthi) (1.16.0)\r\n",
      "Requirement already satisfied: charset-normalizer<3,>=2 in /Users/benni/.venv/lib/python3.11/site-packages (from requests->sruthi) (2.1.1)\r\n",
      "Requirement already satisfied: idna<4,>=2.5 in /Users/benni/.venv/lib/python3.11/site-packages (from requests->sruthi) (3.3)\r\n",
      "Requirement already satisfied: urllib3<1.27,>=1.21.1 in /Users/benni/.venv/lib/python3.11/site-packages (from requests->sruthi) (1.26.12)\r\n",
      "Requirement already satisfied: certifi>=2017.4.17 in /Users/benni/.venv/lib/python3.11/site-packages (from requests->sruthi) (2022.6.15)\r\n",
      "\u001B[33mWARNING: Skipping /Users/benni/.venv/lib/python3.11/site-packages/pandas-1.5.3.dist-info due to invalid metadata entry 'name'\u001B[0m\u001B[33m\r\n",
      "\u001B[0m\u001B[33mWARNING: Skipping /Users/benni/.venv/lib/python3.11/site-packages/numpy-1.24.2.dist-info due to invalid metadata entry 'name'\u001B[0m\u001B[33m\r\n",
      "\u001B[0m\u001B[33mWARNING: Skipping /Users/benni/.venv/lib/python3.11/site-packages/pandas-1.5.3.dist-info due to invalid metadata entry 'name'\u001B[0m\u001B[33m\r\n",
      "\u001B[0m\u001B[33mWARNING: Skipping /Users/benni/.venv/lib/python3.11/site-packages/pandas-1.5.3.dist-info due to invalid metadata entry 'name'\u001B[0m\u001B[33m\r\n",
      "\u001B[0m\u001B[33mWARNING: Skipping /Users/benni/.venv/lib/python3.11/site-packages/pandas-1.5.3.dist-info due to invalid metadata entry 'name'\u001B[0m\u001B[33m\r\n",
      "\u001B[0m\r\n",
      "\u001B[1m[\u001B[0m\u001B[34;49mnotice\u001B[0m\u001B[1;39;49m]\u001B[0m\u001B[39;49m A new release of pip is available: \u001B[0m\u001B[31;49m23.0.1\u001B[0m\u001B[39;49m -> \u001B[0m\u001B[32;49m24.0\u001B[0m\r\n",
      "\u001B[1m[\u001B[0m\u001B[34;49mnotice\u001B[0m\u001B[1;39;49m]\u001B[0m\u001B[39;49m To update, run: \u001B[0m\u001B[32;49mpip install --upgrade pip\u001B[0m\r\n"
     ]
    }
   ],
   "execution_count": 2
  },
  {
   "cell_type": "code",
   "source": [
    "import sruthi\n",
    "import pandas as pd\n",
    "\n",
    "records = sruthi.searchretrieve('https://services.dnb.de/sru/', query='deutsch')\n",
    "print(records)\n",
    "#print(records.count)\n",
    "#print(record[0])\n",
    "#for record in records:\n",
    "#    print(record['reference'])\n",
    "#    print(record['title'])\n",
    "#    print(record['date'])\n",
    "#    print(record['extra']['link'])\n",
    "\n"
   ],
   "metadata": {
    "collapsed": false,
    "ExecuteTime": {
     "end_time": "2024-04-22T08:13:52.642725Z",
     "start_time": "2024-04-22T08:13:52.470143Z"
    }
   },
   "id": "43f0e9cf39dea4d5",
   "outputs": [
    {
     "ename": "ServerIncompatibleError",
     "evalue": "Server response did not contain a {http://www.loc.gov/zing/srw/}searchRetrieveResponse tag",
     "output_type": "error",
     "traceback": [
      "\u001B[0;31m---------------------------------------------------------------------------\u001B[0m",
      "\u001B[0;31mServerIncompatibleError\u001B[0m                   Traceback (most recent call last)",
      "Cell \u001B[0;32mIn[4], line 4\u001B[0m\n\u001B[1;32m      1\u001B[0m \u001B[38;5;28;01mimport\u001B[39;00m \u001B[38;5;21;01msruthi\u001B[39;00m\n\u001B[1;32m      2\u001B[0m \u001B[38;5;28;01mimport\u001B[39;00m \u001B[38;5;21;01mpandas\u001B[39;00m \u001B[38;5;28;01mas\u001B[39;00m \u001B[38;5;21;01mpd\u001B[39;00m\n\u001B[0;32m----> 4\u001B[0m records \u001B[38;5;241m=\u001B[39m \u001B[43msruthi\u001B[49m\u001B[38;5;241;43m.\u001B[39;49m\u001B[43msearchretrieve\u001B[49m\u001B[43m(\u001B[49m\u001B[38;5;124;43m'\u001B[39;49m\u001B[38;5;124;43mhttps://services.dnb.de/sru/\u001B[39;49m\u001B[38;5;124;43m'\u001B[39;49m\u001B[43m,\u001B[49m\u001B[43m \u001B[49m\u001B[43mquery\u001B[49m\u001B[38;5;241;43m=\u001B[39;49m\u001B[38;5;124;43m'\u001B[39;49m\u001B[38;5;124;43mdeutsch\u001B[39;49m\u001B[38;5;124;43m'\u001B[39;49m\u001B[43m)\u001B[49m\n\u001B[1;32m      5\u001B[0m \u001B[38;5;28mprint\u001B[39m(records)\n\u001B[1;32m      6\u001B[0m \u001B[38;5;66;03m#print(records.count)\u001B[39;00m\n\u001B[1;32m      7\u001B[0m \u001B[38;5;66;03m#print(record[0])\u001B[39;00m\n\u001B[1;32m      8\u001B[0m \u001B[38;5;66;03m#for record in records:\u001B[39;00m\n\u001B[0;32m   (...)\u001B[0m\n\u001B[1;32m     11\u001B[0m \u001B[38;5;66;03m#    print(record['date'])\u001B[39;00m\n\u001B[1;32m     12\u001B[0m \u001B[38;5;66;03m#    print(record['extra']['link'])\u001B[39;00m\n",
      "File \u001B[0;32m~/.venv/lib/python3.11/site-packages/sruthi/__init__.py:24\u001B[0m, in \u001B[0;36msearchretrieve\u001B[0;34m(url, query, **kwargs)\u001B[0m\n\u001B[1;32m     21\u001B[0m client_kwargs[\u001B[38;5;124m\"\u001B[39m\u001B[38;5;124murl\u001B[39m\u001B[38;5;124m\"\u001B[39m] \u001B[38;5;241m=\u001B[39m url\n\u001B[1;32m     23\u001B[0m c \u001B[38;5;241m=\u001B[39m Client(\u001B[38;5;241m*\u001B[39m\u001B[38;5;241m*\u001B[39mclient_kwargs)\n\u001B[0;32m---> 24\u001B[0m \u001B[38;5;28;01mreturn\u001B[39;00m \u001B[43mc\u001B[49m\u001B[38;5;241;43m.\u001B[39;49m\u001B[43msearchretrieve\u001B[49m\u001B[43m(\u001B[49m\u001B[38;5;241;43m*\u001B[39;49m\u001B[38;5;241;43m*\u001B[39;49m\u001B[43msearch_kwargs\u001B[49m\u001B[43m)\u001B[49m\n",
      "File \u001B[0;32m~/.venv/lib/python3.11/site-packages/sruthi/client.py:37\u001B[0m, in \u001B[0;36mClient.searchretrieve\u001B[0;34m(self, query, start_record)\u001B[0m\n\u001B[1;32m     34\u001B[0m     params[\u001B[38;5;124m\"\u001B[39m\u001B[38;5;124mrecordSchema\u001B[39m\u001B[38;5;124m\"\u001B[39m] \u001B[38;5;241m=\u001B[39m \u001B[38;5;28mself\u001B[39m\u001B[38;5;241m.\u001B[39mrecord_schema\n\u001B[1;32m     36\u001B[0m data_loader \u001B[38;5;241m=\u001B[39m DataLoader(\u001B[38;5;28mself\u001B[39m\u001B[38;5;241m.\u001B[39murl, \u001B[38;5;28mself\u001B[39m\u001B[38;5;241m.\u001B[39msession, params)\n\u001B[0;32m---> 37\u001B[0m \u001B[38;5;28;01mreturn\u001B[39;00m \u001B[43mresponse\u001B[49m\u001B[38;5;241;43m.\u001B[39;49m\u001B[43mSearchRetrieveResponse\u001B[49m\u001B[43m(\u001B[49m\u001B[43mdata_loader\u001B[49m\u001B[43m)\u001B[49m\n",
      "File \u001B[0;32m~/.venv/lib/python3.11/site-packages/sruthi/response.py:17\u001B[0m, in \u001B[0;36mResponse.__init__\u001B[0;34m(self, data_loader)\u001B[0m\n\u001B[1;32m     15\u001B[0m \u001B[38;5;28mself\u001B[39m\u001B[38;5;241m.\u001B[39mrecords \u001B[38;5;241m=\u001B[39m []\n\u001B[1;32m     16\u001B[0m xml \u001B[38;5;241m=\u001B[39m \u001B[38;5;28mself\u001B[39m\u001B[38;5;241m.\u001B[39mdata_loader\u001B[38;5;241m.\u001B[39mload()\n\u001B[0;32m---> 17\u001B[0m \u001B[38;5;28;43mself\u001B[39;49m\u001B[38;5;241;43m.\u001B[39;49m\u001B[43m_parse_content\u001B[49m\u001B[43m(\u001B[49m\u001B[43mxml\u001B[49m\u001B[43m)\u001B[49m\n",
      "File \u001B[0;32m~/.venv/lib/python3.11/site-packages/sruthi/response.py:63\u001B[0m, in \u001B[0;36mSearchRetrieveResponse._parse_content\u001B[0;34m(self, xml)\u001B[0m\n\u001B[1;32m     62\u001B[0m \u001B[38;5;28;01mdef\u001B[39;00m \u001B[38;5;21m_parse_content\u001B[39m(\u001B[38;5;28mself\u001B[39m, xml):\n\u001B[0;32m---> 63\u001B[0m     \u001B[38;5;28;43mself\u001B[39;49m\u001B[38;5;241;43m.\u001B[39;49m\u001B[43m_check_response_tag\u001B[49m\u001B[43m(\u001B[49m\u001B[43mxml\u001B[49m\u001B[43m,\u001B[49m\u001B[43m \u001B[49m\u001B[38;5;124;43m\"\u001B[39;49m\u001B[38;5;124;43msearchRetrieveResponse\u001B[39;49m\u001B[38;5;124;43m\"\u001B[39;49m\u001B[43m)\u001B[49m\n\u001B[1;32m     65\u001B[0m     \u001B[38;5;28mself\u001B[39m\u001B[38;5;241m.\u001B[39msru_version \u001B[38;5;241m=\u001B[39m \u001B[38;5;28mself\u001B[39m\u001B[38;5;241m.\u001B[39mxmlparser\u001B[38;5;241m.\u001B[39mfind(xml, \u001B[38;5;124m\"\u001B[39m\u001B[38;5;124m./sru:version\u001B[39m\u001B[38;5;124m\"\u001B[39m)\u001B[38;5;241m.\u001B[39mtext\n\u001B[1;32m     66\u001B[0m     \u001B[38;5;28mself\u001B[39m\u001B[38;5;241m.\u001B[39mcount \u001B[38;5;241m=\u001B[39m \u001B[38;5;28mself\u001B[39m\u001B[38;5;241m.\u001B[39mmaybe_int(\n\u001B[1;32m     67\u001B[0m         \u001B[38;5;28mself\u001B[39m\u001B[38;5;241m.\u001B[39mxmlparser\u001B[38;5;241m.\u001B[39mfind(xml, \u001B[38;5;124m\"\u001B[39m\u001B[38;5;124m./sru:numberOfRecords\u001B[39m\u001B[38;5;124m\"\u001B[39m)\u001B[38;5;241m.\u001B[39mtext\n\u001B[1;32m     68\u001B[0m     )\n",
      "File \u001B[0;32m~/.venv/lib/python3.11/site-packages/sruthi/response.py:41\u001B[0m, in \u001B[0;36mResponse._check_response_tag\u001B[0;34m(self, xml, tag)\u001B[0m\n\u001B[1;32m     39\u001B[0m     \u001B[38;5;28mself\u001B[39m\u001B[38;5;241m.\u001B[39mxmlparser\u001B[38;5;241m.\u001B[39mnamespaces[\u001B[38;5;124m\"\u001B[39m\u001B[38;5;124msru\u001B[39m\u001B[38;5;124m\"\u001B[39m] \u001B[38;5;241m=\u001B[39m main_ns\n\u001B[1;32m     40\u001B[0m \u001B[38;5;28;01melse\u001B[39;00m:\n\u001B[0;32m---> 41\u001B[0m     \u001B[38;5;28;01mraise\u001B[39;00m errors\u001B[38;5;241m.\u001B[39mServerIncompatibleError(\n\u001B[1;32m     42\u001B[0m         \u001B[38;5;124mf\u001B[39m\u001B[38;5;124m\"\u001B[39m\u001B[38;5;124mServer response did not contain a \u001B[39m\u001B[38;5;132;01m{\u001B[39;00mresponse\u001B[38;5;132;01m}\u001B[39;00m\u001B[38;5;124m tag\u001B[39m\u001B[38;5;124m\"\u001B[39m\n\u001B[1;32m     43\u001B[0m     )\n",
      "\u001B[0;31mServerIncompatibleError\u001B[0m: Server response did not contain a {http://www.loc.gov/zing/srw/}searchRetrieveResponse tag"
     ]
    }
   ],
   "execution_count": 4
  },
  {
   "cell_type": "code",
   "execution_count": null,
   "outputs": [],
   "source": [],
   "metadata": {
    "collapsed": false
   },
   "id": "cce7a9dbd71ba72d"
  }
 ],
 "metadata": {
  "kernelspec": {
   "display_name": "Python 3",
   "language": "python",
   "name": "python3"
  },
  "language_info": {
   "codemirror_mode": {
    "name": "ipython",
    "version": 2
   },
   "file_extension": ".py",
   "mimetype": "text/x-python",
   "name": "python",
   "nbconvert_exporter": "python",
   "pygments_lexer": "ipython2",
   "version": "2.7.6"
  }
 },
 "nbformat": 4,
 "nbformat_minor": 5
}
