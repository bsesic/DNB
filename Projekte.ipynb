{
 "cells": [
  {
   "cell_type": "markdown",
   "source": [
    "# Bestandsabfrage über die Projekte der DNB\n",
    " Relevante Projekte:\n",
    " \n",
    "Name - Nummer\n"
   ],
   "metadata": {
    "collapsed": false
   },
   "id": "dd731faa9a76b800"
  },
  {
   "cell_type": "code",
   "execution_count": 2,
   "outputs": [
    {
     "name": "stdout",
     "output_type": "stream",
     "text": [
      "Collecting sickle\r\n",
      "  Using cached Sickle-0.7.0-py3-none-any.whl (12 kB)\r\n",
      "Requirement already satisfied: requests>=1.1.0 in /Users/benni/.venv/lib/python3.11/site-packages (from sickle) (2.31.0)\r\n",
      "Requirement already satisfied: lxml>=3.2.3 in /Users/benni/.venv/lib/python3.11/site-packages (from sickle) (4.9.3)\r\n",
      "Requirement already satisfied: charset-normalizer<4,>=2 in /Users/benni/.venv/lib/python3.11/site-packages (from requests>=1.1.0->sickle) (3.1.0)\r\n",
      "Requirement already satisfied: idna<4,>=2.5 in /Users/benni/.venv/lib/python3.11/site-packages (from requests>=1.1.0->sickle) (3.4)\r\n",
      "Requirement already satisfied: urllib3<3,>=1.21.1 in /Users/benni/.venv/lib/python3.11/site-packages (from requests>=1.1.0->sickle) (1.26.15)\r\n",
      "Requirement already satisfied: certifi>=2017.4.17 in /Users/benni/.venv/lib/python3.11/site-packages (from requests>=1.1.0->sickle) (2022.12.7)\r\n",
      "Installing collected packages: sickle\r\n",
      "Successfully installed sickle-0.7.0\r\n",
      "\r\n",
      "\u001B[1m[\u001B[0m\u001B[34;49mnotice\u001B[0m\u001B[1;39;49m]\u001B[0m\u001B[39;49m A new release of pip is available: \u001B[0m\u001B[31;49m23.0.1\u001B[0m\u001B[39;49m -> \u001B[0m\u001B[32;49m23.3.1\u001B[0m\r\n",
      "\u001B[1m[\u001B[0m\u001B[34;49mnotice\u001B[0m\u001B[1;39;49m]\u001B[0m\u001B[39;49m To update, run: \u001B[0m\u001B[32;49mpip install --upgrade pip\u001B[0m\r\n",
      "Collecting polymatheia\r\n",
      "  Using cached polymatheia-1.0.5-py3-none-any.whl (16 kB)\r\n",
      "Requirement already satisfied: Sickle<0.8.0,>=0.7.0 in /Users/benni/.venv/lib/python3.11/site-packages (from polymatheia) (0.7.0)\r\n",
      "Collecting deprecation<3.0.0,>=2.1.0\r\n",
      "  Using cached deprecation-2.1.0-py2.py3-none-any.whl (11 kB)\r\n",
      "Requirement already satisfied: lxml<5.0.0,>=4.5.2 in /Users/benni/.venv/lib/python3.11/site-packages (from polymatheia) (4.9.3)\r\n",
      "Collecting munch<3.0.0,>=2.5.0\r\n",
      "  Using cached munch-2.5.0-py2.py3-none-any.whl (10 kB)\r\n",
      "Requirement already satisfied: pandas<2.0.0,>=1.1.0 in /Users/benni/.venv/lib/python3.11/site-packages (from polymatheia) (1.5.3)\r\n",
      "Requirement already satisfied: requests<3.0.0,>=2.24.0 in /Users/benni/.venv/lib/python3.11/site-packages (from polymatheia) (2.31.0)\r\n",
      "Collecting srupy<0.0.46,>=0.0.45\r\n",
      "  Using cached srupy-0.0.45-py3-none-any.whl (8.7 kB)\r\n",
      "Requirement already satisfied: packaging in /Users/benni/.venv/lib/python3.11/site-packages (from deprecation<3.0.0,>=2.1.0->polymatheia) (23.0)\r\n",
      "Requirement already satisfied: six in /Users/benni/.venv/lib/python3.11/site-packages (from munch<3.0.0,>=2.5.0->polymatheia) (1.16.0)\r\n",
      "Requirement already satisfied: python-dateutil>=2.8.1 in /Users/benni/.venv/lib/python3.11/site-packages (from pandas<2.0.0,>=1.1.0->polymatheia) (2.8.2)\r\n",
      "Requirement already satisfied: pytz>=2020.1 in /Users/benni/.venv/lib/python3.11/site-packages (from pandas<2.0.0,>=1.1.0->polymatheia) (2022.7.1)\r\n",
      "Requirement already satisfied: numpy>=1.21.0 in /Users/benni/.venv/lib/python3.11/site-packages (from pandas<2.0.0,>=1.1.0->polymatheia) (1.24.2)\r\n",
      "Requirement already satisfied: charset-normalizer<4,>=2 in /Users/benni/.venv/lib/python3.11/site-packages (from requests<3.0.0,>=2.24.0->polymatheia) (3.1.0)\r\n",
      "Requirement already satisfied: idna<4,>=2.5 in /Users/benni/.venv/lib/python3.11/site-packages (from requests<3.0.0,>=2.24.0->polymatheia) (3.4)\r\n",
      "Requirement already satisfied: urllib3<3,>=1.21.1 in /Users/benni/.venv/lib/python3.11/site-packages (from requests<3.0.0,>=2.24.0->polymatheia) (1.26.15)\r\n",
      "Requirement already satisfied: certifi>=2017.4.17 in /Users/benni/.venv/lib/python3.11/site-packages (from requests<3.0.0,>=2.24.0->polymatheia) (2022.12.7)\r\n",
      "Installing collected packages: munch, deprecation, srupy, polymatheia\r\n",
      "Successfully installed deprecation-2.1.0 munch-2.5.0 polymatheia-1.0.5 srupy-0.0.45\r\n",
      "\r\n",
      "\u001B[1m[\u001B[0m\u001B[34;49mnotice\u001B[0m\u001B[1;39;49m]\u001B[0m\u001B[39;49m A new release of pip is available: \u001B[0m\u001B[31;49m23.0.1\u001B[0m\u001B[39;49m -> \u001B[0m\u001B[32;49m23.3.1\u001B[0m\r\n",
      "\u001B[1m[\u001B[0m\u001B[34;49mnotice\u001B[0m\u001B[1;39;49m]\u001B[0m\u001B[39;49m To update, run: \u001B[0m\u001B[32;49mpip install --upgrade pip\u001B[0m\r\n"
     ]
    }
   ],
   "source": [
    "!pip install sickle\n",
    "!pip install polymatheia"
   ],
   "metadata": {
    "collapsed": false,
    "ExecuteTime": {
     "end_time": "2023-12-05T08:54:55.809061Z",
     "start_time": "2023-12-05T08:54:49.929504Z"
    }
   },
   "id": "4d01ed78af336294"
  },
  {
   "cell_type": "code",
   "execution_count": 10,
   "id": "initial_id",
   "metadata": {
    "collapsed": true,
    "ExecuteTime": {
     "end_time": "2023-12-05T09:15:27.982907Z",
     "start_time": "2023-12-05T09:15:27.977914Z"
    }
   },
   "outputs": [],
   "source": [
    "from sickle import Sickle\n",
    "from lxml import etree\n",
    "from polymatheia.data.reader import OAIRecordReader\n",
    "from polymatheia.data.reader import OAIRecordReader"
   ]
  },
  {
   "cell_type": "code",
   "execution_count": 12,
   "outputs": [],
   "source": [
    "sickle = Sickle('https://services.dnb.de/oai2/repository')"
   ],
   "metadata": {
    "collapsed": false,
    "ExecuteTime": {
     "end_time": "2023-12-05T09:15:36.308414Z",
     "start_time": "2023-12-05T09:15:36.301523Z"
    }
   },
   "id": "7a039f43f2174ac7"
  },
  {
   "cell_type": "code",
   "execution_count": 16,
   "outputs": [],
   "source": [
    "namespaces = {\n",
    "    'oai': 'http://www.openarchives.org/OAI/2.0/',\n",
    "    'oai_dc': 'http://www.openarchives.org/OAI/2.0/oai_dc/',\n",
    "    'dc': 'http://purl.org/dc/elements/1.1/'\n",
    "}\n",
    "\n",
    "count=0\n",
    "\n",
    "for record in sickle.ListRecords(**{'metadataPrefix': 'oai_dc', 'set': 'dnb:digitalisate-oa:projekt4'}):\n",
    "    tree = etree.ElementTree(record.xml)\n",
    "    result = tree.xpath('/oai:record/oai:metadata/oai_dc:dc/dc:title/text()', namespaces=namespaces)\n",
    "    if (result):\n",
    "        count += 1\n",
    "        author = tree.xpath('/oai:record/oai:metadata/oai_dc:dc/dc:creator/text()', namespaces=namespaces)\n",
    "        print(str(count) + \": \" + result[0])\n",
    "        if author:\n",
    "            print(author[0])"
   ],
   "metadata": {
    "collapsed": false,
    "ExecuteTime": {
     "end_time": "2023-12-05T10:27:15.103785Z",
     "start_time": "2023-12-05T10:16:45.368369Z"
    }
   },
   "id": "5f8e8775cedf167d"
  },
  {
   "cell_type": "code",
   "execution_count": null,
   "outputs": [],
   "source": [],
   "metadata": {
    "collapsed": false
   },
   "id": "89ab02c7102ad4b1"
  }
 ],
 "metadata": {
  "kernelspec": {
   "display_name": "Python 3",
   "language": "python",
   "name": "python3"
  },
  "language_info": {
   "codemirror_mode": {
    "name": "ipython",
    "version": 2
   },
   "file_extension": ".py",
   "mimetype": "text/x-python",
   "name": "python",
   "nbconvert_exporter": "python",
   "pygments_lexer": "ipython2",
   "version": "2.7.6"
  }
 },
 "nbformat": 4,
 "nbformat_minor": 5
}
