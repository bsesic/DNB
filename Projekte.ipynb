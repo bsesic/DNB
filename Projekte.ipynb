{
 "cells": [
  {
   "cell_type": "markdown",
   "source": [
    "# Bestandsabfrage über die Projekte der DNB\n",
    " Relevante Projekte:\n",
    " \n",
    "Name - Nummer\n"
   ],
   "metadata": {
    "collapsed": false
   },
   "id": "dd731faa9a76b800"
  },
  {
   "cell_type": "code",
   "source": [
    "!pip install sickle\n",
    "!pip install polymatheia"
   ],
   "metadata": {
    "collapsed": false,
    "ExecuteTime": {
     "end_time": "2024-04-25T18:58:35.949469Z",
     "start_time": "2024-04-25T18:58:29.462052Z"
    }
   },
   "id": "4d01ed78af336294",
   "outputs": [
    {
     "name": "stdout",
     "output_type": "stream",
     "text": [
      "\u001B[33mWARNING: Skipping /Users/benni/.venv/lib/python3.11/site-packages/pandas-1.5.3.dist-info due to invalid metadata entry 'name'\u001B[0m\u001B[33m\r\n",
      "\u001B[0m\u001B[33mWARNING: Skipping /Users/benni/.venv/lib/python3.11/site-packages/pandas-1.5.3.dist-info due to invalid metadata entry 'name'\u001B[0m\u001B[33m\r\n",
      "\u001B[0m\u001B[33mWARNING: Skipping /Users/benni/.venv/lib/python3.11/site-packages/numpy-1.24.2.dist-info due to invalid metadata entry 'name'\u001B[0m\u001B[33m\r\n",
      "\u001B[0mRequirement already satisfied: sickle in /Users/benni/.venv/lib/python3.11/site-packages (0.7.0)\r\n",
      "Requirement already satisfied: requests>=1.1.0 in /Users/benni/.venv/lib/python3.11/site-packages (from sickle) (2.28.1)\r\n",
      "Requirement already satisfied: lxml>=3.2.3 in /Users/benni/.venv/lib/python3.11/site-packages (from sickle) (4.9.3)\r\n",
      "Requirement already satisfied: charset-normalizer<3,>=2 in /Users/benni/.venv/lib/python3.11/site-packages (from requests>=1.1.0->sickle) (2.1.1)\r\n",
      "Requirement already satisfied: idna<4,>=2.5 in /Users/benni/.venv/lib/python3.11/site-packages (from requests>=1.1.0->sickle) (3.3)\r\n",
      "Requirement already satisfied: urllib3<1.27,>=1.21.1 in /Users/benni/.venv/lib/python3.11/site-packages (from requests>=1.1.0->sickle) (1.26.12)\r\n",
      "Requirement already satisfied: certifi>=2017.4.17 in /Users/benni/.venv/lib/python3.11/site-packages (from requests>=1.1.0->sickle) (2022.6.15)\r\n",
      "\u001B[33mWARNING: Skipping /Users/benni/.venv/lib/python3.11/site-packages/pandas-1.5.3.dist-info due to invalid metadata entry 'name'\u001B[0m\u001B[33m\r\n",
      "\u001B[0m\u001B[33mWARNING: Skipping /Users/benni/.venv/lib/python3.11/site-packages/numpy-1.24.2.dist-info due to invalid metadata entry 'name'\u001B[0m\u001B[33m\r\n",
      "\u001B[0m\u001B[33mWARNING: Skipping /Users/benni/.venv/lib/python3.11/site-packages/pandas-1.5.3.dist-info due to invalid metadata entry 'name'\u001B[0m\u001B[33m\r\n",
      "\u001B[0m\u001B[33mWARNING: Skipping /Users/benni/.venv/lib/python3.11/site-packages/pandas-1.5.3.dist-info due to invalid metadata entry 'name'\u001B[0m\u001B[33m\r\n",
      "\u001B[0m\u001B[33mWARNING: Skipping /Users/benni/.venv/lib/python3.11/site-packages/pandas-1.5.3.dist-info due to invalid metadata entry 'name'\u001B[0m\u001B[33m\r\n",
      "\u001B[0m\r\n",
      "\u001B[1m[\u001B[0m\u001B[34;49mnotice\u001B[0m\u001B[1;39;49m]\u001B[0m\u001B[39;49m A new release of pip is available: \u001B[0m\u001B[31;49m23.0.1\u001B[0m\u001B[39;49m -> \u001B[0m\u001B[32;49m24.0\u001B[0m\r\n",
      "\u001B[1m[\u001B[0m\u001B[34;49mnotice\u001B[0m\u001B[1;39;49m]\u001B[0m\u001B[39;49m To update, run: \u001B[0m\u001B[32;49mpip install --upgrade pip\u001B[0m\r\n",
      "\u001B[33mWARNING: Skipping /Users/benni/.venv/lib/python3.11/site-packages/pandas-1.5.3.dist-info due to invalid metadata entry 'name'\u001B[0m\u001B[33m\r\n",
      "\u001B[0m\u001B[33mWARNING: Skipping /Users/benni/.venv/lib/python3.11/site-packages/pandas-1.5.3.dist-info due to invalid metadata entry 'name'\u001B[0m\u001B[33m\r\n",
      "\u001B[0m\u001B[33mWARNING: Skipping /Users/benni/.venv/lib/python3.11/site-packages/numpy-1.24.2.dist-info due to invalid metadata entry 'name'\u001B[0m\u001B[33m\r\n",
      "\u001B[0mRequirement already satisfied: polymatheia in /Users/benni/.venv/lib/python3.11/site-packages (1.0.5)\r\n",
      "Requirement already satisfied: Sickle<0.8.0,>=0.7.0 in /Users/benni/.venv/lib/python3.11/site-packages (from polymatheia) (0.7.0)\r\n",
      "Requirement already satisfied: deprecation<3.0.0,>=2.1.0 in /Users/benni/.venv/lib/python3.11/site-packages (from polymatheia) (2.1.0)\r\n",
      "Requirement already satisfied: lxml<5.0.0,>=4.5.2 in /Users/benni/.venv/lib/python3.11/site-packages (from polymatheia) (4.9.3)\r\n",
      "Requirement already satisfied: munch<3.0.0,>=2.5.0 in /Users/benni/.venv/lib/python3.11/site-packages (from polymatheia) (2.5.0)\r\n",
      "Requirement already satisfied: pandas<2.0.0,>=1.1.0 in /Users/benni/.venv/lib/python3.11/site-packages (from polymatheia) (1.4.4)\r\n",
      "Requirement already satisfied: requests<3.0.0,>=2.24.0 in /Users/benni/.venv/lib/python3.11/site-packages (from polymatheia) (2.28.1)\r\n",
      "Requirement already satisfied: srupy<0.0.46,>=0.0.45 in /Users/benni/.venv/lib/python3.11/site-packages (from polymatheia) (0.0.45)\r\n",
      "Requirement already satisfied: packaging in /Users/benni/.venv/lib/python3.11/site-packages (from deprecation<3.0.0,>=2.1.0->polymatheia) (23.0)\r\n",
      "Requirement already satisfied: six in /Users/benni/.venv/lib/python3.11/site-packages (from munch<3.0.0,>=2.5.0->polymatheia) (1.16.0)\r\n",
      "Requirement already satisfied: python-dateutil>=2.8.1 in /Users/benni/.venv/lib/python3.11/site-packages (from pandas<2.0.0,>=1.1.0->polymatheia) (2.8.2)\r\n",
      "Requirement already satisfied: pytz>=2020.1 in /Users/benni/.venv/lib/python3.11/site-packages (from pandas<2.0.0,>=1.1.0->polymatheia) (2024.1)\r\n",
      "Requirement already satisfied: numpy>=1.21.0 in /Users/benni/.venv/lib/python3.11/site-packages (from pandas<2.0.0,>=1.1.0->polymatheia) (1.23.2)\r\n",
      "Requirement already satisfied: charset-normalizer<3,>=2 in /Users/benni/.venv/lib/python3.11/site-packages (from requests<3.0.0,>=2.24.0->polymatheia) (2.1.1)\r\n",
      "Requirement already satisfied: idna<4,>=2.5 in /Users/benni/.venv/lib/python3.11/site-packages (from requests<3.0.0,>=2.24.0->polymatheia) (3.3)\r\n",
      "Requirement already satisfied: urllib3<1.27,>=1.21.1 in /Users/benni/.venv/lib/python3.11/site-packages (from requests<3.0.0,>=2.24.0->polymatheia) (1.26.12)\r\n",
      "Requirement already satisfied: certifi>=2017.4.17 in /Users/benni/.venv/lib/python3.11/site-packages (from requests<3.0.0,>=2.24.0->polymatheia) (2022.6.15)\r\n",
      "\u001B[33mWARNING: Skipping /Users/benni/.venv/lib/python3.11/site-packages/pandas-1.5.3.dist-info due to invalid metadata entry 'name'\u001B[0m\u001B[33m\r\n",
      "\u001B[0m\u001B[33mWARNING: Skipping /Users/benni/.venv/lib/python3.11/site-packages/numpy-1.24.2.dist-info due to invalid metadata entry 'name'\u001B[0m\u001B[33m\r\n",
      "\u001B[0m\u001B[33mWARNING: Skipping /Users/benni/.venv/lib/python3.11/site-packages/pandas-1.5.3.dist-info due to invalid metadata entry 'name'\u001B[0m\u001B[33m\r\n",
      "\u001B[0m\u001B[33mWARNING: Skipping /Users/benni/.venv/lib/python3.11/site-packages/pandas-1.5.3.dist-info due to invalid metadata entry 'name'\u001B[0m\u001B[33m\r\n",
      "\u001B[0m\u001B[33mWARNING: Skipping /Users/benni/.venv/lib/python3.11/site-packages/pandas-1.5.3.dist-info due to invalid metadata entry 'name'\u001B[0m\u001B[33m\r\n",
      "\u001B[0m\r\n",
      "\u001B[1m[\u001B[0m\u001B[34;49mnotice\u001B[0m\u001B[1;39;49m]\u001B[0m\u001B[39;49m A new release of pip is available: \u001B[0m\u001B[31;49m23.0.1\u001B[0m\u001B[39;49m -> \u001B[0m\u001B[32;49m24.0\u001B[0m\r\n",
      "\u001B[1m[\u001B[0m\u001B[34;49mnotice\u001B[0m\u001B[1;39;49m]\u001B[0m\u001B[39;49m To update, run: \u001B[0m\u001B[32;49mpip install --upgrade pip\u001B[0m\r\n"
     ]
    }
   ],
   "execution_count": 1
  },
  {
   "cell_type": "code",
   "id": "initial_id",
   "metadata": {
    "collapsed": true,
    "ExecuteTime": {
     "end_time": "2024-04-28T15:56:42.449121Z",
     "start_time": "2024-04-28T15:56:42.407554Z"
    }
   },
   "source": [
    "from sickle import Sickle\n",
    "from lxml import etree\n",
    "from polymatheia.data.reader import OAIRecordReader\n",
    "from polymatheia.data.reader import OAIRecordReader"
   ],
   "outputs": [],
   "execution_count": 3
  },
  {
   "cell_type": "code",
   "source": [
    "sickle = Sickle('https://services.dnb.de/oai2/repository')"
   ],
   "metadata": {
    "collapsed": false,
    "ExecuteTime": {
     "end_time": "2024-04-28T15:56:43.259974Z",
     "start_time": "2024-04-28T15:56:43.251558Z"
    }
   },
   "id": "7a039f43f2174ac7",
   "outputs": [],
   "execution_count": 4
  },
  {
   "cell_type": "code",
   "source": [
    "namespaces = {\n",
    "    'oai': 'http://www.openarchives.org/OAI/2.0/',\n",
    "    'oai_dc': 'http://www.openarchives.org/OAI/2.0/oai_dc/',\n",
    "    'dc': 'http://purl.org/dc/elements/1.1/'\n",
    "}\n",
    "\n",
    "count=0\n",
    "\n",
    "for record in sickle.ListRecords(**{'metadataPrefix': 'oai_dc', 'set': 'dnb:digitalisate-oa:projekt4'}):\n",
    "    tree = etree.ElementTree(record.xml)\n",
    "    result = tree.xpath('/oai:record/oai:metadata/oai_dc:dc/dc:title/text()', namespaces=namespaces)\n",
    "    if (result):\n",
    "        count += 1\n",
    "        author = tree.xpath('/oai:record/oai:metadata/oai_dc:dc/dc:creator/text()', namespaces=namespaces)\n",
    "        print(str(count) + \": \" + result[0])\n",
    "        if author:\n",
    "            print(author[0])"
   ],
   "metadata": {
    "collapsed": false,
    "ExecuteTime": {
     "end_time": "2024-04-28T16:05:48.348778Z",
     "start_time": "2024-04-28T15:56:44.516595Z"
    }
   },
   "id": "5f8e8775cedf167d",
   "outputs": [],
   "execution_count": 5
  },
  {
   "cell_type": "code",
   "source": "print(result)",
   "metadata": {
    "collapsed": false,
    "ExecuteTime": {
     "end_time": "2024-04-28T16:05:48.363792Z",
     "start_time": "2024-04-28T16:05:48.354135Z"
    }
   },
   "id": "89ab02c7102ad4b1",
   "outputs": [
    {
     "name": "stdout",
     "output_type": "stream",
     "text": [
      "[]\n"
     ]
    }
   ],
   "execution_count": 6
  },
  {
   "metadata": {},
   "cell_type": "code",
   "outputs": [],
   "execution_count": null,
   "source": "",
   "id": "512570c3e03ed35"
  }
 ],
 "metadata": {
  "kernelspec": {
   "display_name": "Python 3",
   "language": "python",
   "name": "python3"
  },
  "language_info": {
   "codemirror_mode": {
    "name": "ipython",
    "version": 2
   },
   "file_extension": ".py",
   "mimetype": "text/x-python",
   "name": "python",
   "nbconvert_exporter": "python",
   "pygments_lexer": "ipython2",
   "version": "2.7.6"
  }
 },
 "nbformat": 4,
 "nbformat_minor": 5
}
