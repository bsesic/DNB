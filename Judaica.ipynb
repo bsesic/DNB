{
 "cells": [
  {
   "metadata": {},
   "cell_type": "markdown",
   "source": [
    "# Judaicia Bestandsabfrage\n",
    "\n",
    "## Bücher und Monografien (Judaica)"
   ],
   "id": "a15d056387fb6c47"
  },
  {
   "metadata": {},
   "cell_type": "markdown",
   "source": [
    "## Jüdische Periodika in NS-Deutschland \n",
    "## Deutsches Exilarchiv \n",
    "## Anne-Frank-Shoah-Bibliothek \n",
    "## Exilpresse Digital \n",
    "## Exilpublikationen \n"
   ],
   "id": "e6524a8b1ef2bf92"
  }
 ],
 "metadata": {
  "kernelspec": {
   "display_name": "Python 3",
   "language": "python",
   "name": "python3"
  },
  "language_info": {
   "codemirror_mode": {
    "name": "ipython",
    "version": 2
   },
   "file_extension": ".py",
   "mimetype": "text/x-python",
   "name": "python",
   "nbconvert_exporter": "python",
   "pygments_lexer": "ipython2",
   "version": "2.7.6"
  }
 },
 "nbformat": 4,
 "nbformat_minor": 5
}
