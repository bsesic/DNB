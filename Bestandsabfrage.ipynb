{
 "cells": [
  {
   "metadata": {},
   "cell_type": "markdown",
   "source": [
    "# Bestandsabfrage von Judaica Zeitschriften \n",
    "über die DNB SRU Schnittstelle\n",
    "\n",
    "nutzt MARC21-XML (https://www.loc.gov/marc/bibliographic/)\n"
   ],
   "id": "7235d851770eefa8"
  },
  {
   "cell_type": "code",
   "source": [
    "import pandas as pd\n",
    "import numpy as np\n",
    "import os"
   ],
   "metadata": {
    "collapsed": false,
    "ExecuteTime": {
     "end_time": "2024-04-22T08:02:10.944916Z",
     "start_time": "2024-04-22T08:02:10.411067Z"
    }
   },
   "id": "bf0c2cfdc0724188",
   "outputs": [],
   "execution_count": 1
  },
  {
   "metadata": {},
   "cell_type": "markdown",
   "source": "# 2. Get the metadata",
   "id": "fa8a460acc3169f8"
  },
  {
   "cell_type": "code",
   "source": [
    "df_metatdata = pd.read_excel('metadata/CM_Seiten_Metadaten.xlsx')\n",
    "df_metatdata.head()"
   ],
   "metadata": {
    "collapsed": false,
    "ExecuteTime": {
     "end_time": "2024-04-22T08:03:51.678289Z",
     "start_time": "2024-04-22T08:02:10.946252Z"
    }
   },
   "id": "caf1e9116cdd8285",
   "outputs": [
    {
     "data": {
      "text/plain": [
       "   VLID_Seite                  OT_PATH  VLID_Zs  VLID_Parent Parent Knotentyp  \\\n",
       "0       52598  |52596||9443938||52598|    52596      9443938        Metadaten   \n",
       "1       52599  |52596||9443938||52599|    52596      9443938        Metadaten   \n",
       "2       52600  |52596||9443938||52600|    52596      9443938        Metadaten   \n",
       "3       52601  |52596||9443938||52601|    52596      9443938        Metadaten   \n",
       "4       52602  |52596||9443938||52602|    52596      9443938        Metadaten   \n",
       "\n",
       "      Parent-Type                                         Zs_Caption  \\\n",
       "0  journal volume  ... Bericht ueber den Verein für die Provinz W...   \n",
       "1  journal volume  ... Bericht ueber den Verein für die Provinz W...   \n",
       "2  journal volume  ... Bericht ueber den Verein für die Provinz W...   \n",
       "3  journal volume  ... Bericht ueber den Verein für die Provinz W...   \n",
       "4  journal volume  ... Bericht ueber den Verein für die Provinz W...   \n",
       "\n",
       "  Volume_Caption Heft_Caption Aufsatz_Caption       Datum  Seite (OT_SORT)  \\\n",
       "0       8 (1835)          NaN             NaN  1835-01-01                1   \n",
       "1       8 (1835)          NaN             NaN  1835-01-01                2   \n",
       "2       8 (1835)          NaN             NaN  1835-01-01                3   \n",
       "3       8 (1835)          NaN             NaN  1835-01-01                4   \n",
       "4       8 (1835)          NaN             NaN  1835-01-01                5   \n",
       "\n",
       "  Seite_Caption Seitenzahl_Caption  \n",
       "0       [Seite]                NaN  \n",
       "1       [Seite]                NaN  \n",
       "2       [Seite]                NaN  \n",
       "3       Seite 4                  4  \n",
       "4       Seite 5                  5  "
      ],
      "text/html": [
       "<div>\n",
       "<style scoped>\n",
       "    .dataframe tbody tr th:only-of-type {\n",
       "        vertical-align: middle;\n",
       "    }\n",
       "\n",
       "    .dataframe tbody tr th {\n",
       "        vertical-align: top;\n",
       "    }\n",
       "\n",
       "    .dataframe thead th {\n",
       "        text-align: right;\n",
       "    }\n",
       "</style>\n",
       "<table border=\"1\" class=\"dataframe\">\n",
       "  <thead>\n",
       "    <tr style=\"text-align: right;\">\n",
       "      <th></th>\n",
       "      <th>VLID_Seite</th>\n",
       "      <th>OT_PATH</th>\n",
       "      <th>VLID_Zs</th>\n",
       "      <th>VLID_Parent</th>\n",
       "      <th>Parent Knotentyp</th>\n",
       "      <th>Parent-Type</th>\n",
       "      <th>Zs_Caption</th>\n",
       "      <th>Volume_Caption</th>\n",
       "      <th>Heft_Caption</th>\n",
       "      <th>Aufsatz_Caption</th>\n",
       "      <th>Datum</th>\n",
       "      <th>Seite (OT_SORT)</th>\n",
       "      <th>Seite_Caption</th>\n",
       "      <th>Seitenzahl_Caption</th>\n",
       "    </tr>\n",
       "  </thead>\n",
       "  <tbody>\n",
       "    <tr>\n",
       "      <th>0</th>\n",
       "      <td>52598</td>\n",
       "      <td>|52596||9443938||52598|</td>\n",
       "      <td>52596</td>\n",
       "      <td>9443938</td>\n",
       "      <td>Metadaten</td>\n",
       "      <td>journal volume</td>\n",
       "      <td>... Bericht ueber den Verein für die Provinz W...</td>\n",
       "      <td>8 (1835)</td>\n",
       "      <td>NaN</td>\n",
       "      <td>NaN</td>\n",
       "      <td>1835-01-01</td>\n",
       "      <td>1</td>\n",
       "      <td>[Seite]</td>\n",
       "      <td>NaN</td>\n",
       "    </tr>\n",
       "    <tr>\n",
       "      <th>1</th>\n",
       "      <td>52599</td>\n",
       "      <td>|52596||9443938||52599|</td>\n",
       "      <td>52596</td>\n",
       "      <td>9443938</td>\n",
       "      <td>Metadaten</td>\n",
       "      <td>journal volume</td>\n",
       "      <td>... Bericht ueber den Verein für die Provinz W...</td>\n",
       "      <td>8 (1835)</td>\n",
       "      <td>NaN</td>\n",
       "      <td>NaN</td>\n",
       "      <td>1835-01-01</td>\n",
       "      <td>2</td>\n",
       "      <td>[Seite]</td>\n",
       "      <td>NaN</td>\n",
       "    </tr>\n",
       "    <tr>\n",
       "      <th>2</th>\n",
       "      <td>52600</td>\n",
       "      <td>|52596||9443938||52600|</td>\n",
       "      <td>52596</td>\n",
       "      <td>9443938</td>\n",
       "      <td>Metadaten</td>\n",
       "      <td>journal volume</td>\n",
       "      <td>... Bericht ueber den Verein für die Provinz W...</td>\n",
       "      <td>8 (1835)</td>\n",
       "      <td>NaN</td>\n",
       "      <td>NaN</td>\n",
       "      <td>1835-01-01</td>\n",
       "      <td>3</td>\n",
       "      <td>[Seite]</td>\n",
       "      <td>NaN</td>\n",
       "    </tr>\n",
       "    <tr>\n",
       "      <th>3</th>\n",
       "      <td>52601</td>\n",
       "      <td>|52596||9443938||52601|</td>\n",
       "      <td>52596</td>\n",
       "      <td>9443938</td>\n",
       "      <td>Metadaten</td>\n",
       "      <td>journal volume</td>\n",
       "      <td>... Bericht ueber den Verein für die Provinz W...</td>\n",
       "      <td>8 (1835)</td>\n",
       "      <td>NaN</td>\n",
       "      <td>NaN</td>\n",
       "      <td>1835-01-01</td>\n",
       "      <td>4</td>\n",
       "      <td>Seite 4</td>\n",
       "      <td>4</td>\n",
       "    </tr>\n",
       "    <tr>\n",
       "      <th>4</th>\n",
       "      <td>52602</td>\n",
       "      <td>|52596||9443938||52602|</td>\n",
       "      <td>52596</td>\n",
       "      <td>9443938</td>\n",
       "      <td>Metadaten</td>\n",
       "      <td>journal volume</td>\n",
       "      <td>... Bericht ueber den Verein für die Provinz W...</td>\n",
       "      <td>8 (1835)</td>\n",
       "      <td>NaN</td>\n",
       "      <td>NaN</td>\n",
       "      <td>1835-01-01</td>\n",
       "      <td>5</td>\n",
       "      <td>Seite 5</td>\n",
       "      <td>5</td>\n",
       "    </tr>\n",
       "  </tbody>\n",
       "</table>\n",
       "</div>"
      ]
     },
     "execution_count": 2,
     "metadata": {},
     "output_type": "execute_result"
    }
   ],
   "execution_count": 2
  },
  {
   "metadata": {},
   "cell_type": "markdown",
   "source": "## ",
   "id": "e0567c7bff63c2f1"
  },
  {
   "cell_type": "code",
   "source": [
    "df_metatdata.shape\n"
   ],
   "metadata": {
    "collapsed": false,
    "ExecuteTime": {
     "end_time": "2024-04-22T08:03:51.684906Z",
     "start_time": "2024-04-22T08:03:51.680404Z"
    }
   },
   "id": "f39752d436a5c28a",
   "outputs": [
    {
     "data": {
      "text/plain": [
       "(918165, 14)"
      ]
     },
     "execution_count": 3,
     "metadata": {},
     "output_type": "execute_result"
    }
   ],
   "execution_count": 3
  },
  {
   "cell_type": "code",
   "source": [
    "df_metatdata.sample(5)"
   ],
   "metadata": {
    "collapsed": false,
    "ExecuteTime": {
     "end_time": "2024-04-22T08:03:51.836480Z",
     "start_time": "2024-04-22T08:03:51.686455Z"
    }
   },
   "id": "fd89fd50ba25619a",
   "outputs": [
    {
     "data": {
      "text/plain": [
       "        VLID_Seite                                        OT_PATH  VLID_Zs  \\\n",
       "146620     2490775           |2446951||2448608||2448645||2490775|  2446951   \n",
       "384554     2890001  |2829132||2829827||2829831||2889910||2890001|  2829132   \n",
       "63474      2326179  |2316602||2316663||2316670||2326081||2326179|  2316602   \n",
       "296645     2683242           |2651273||2653452||2653540||2683242|  2651273   \n",
       "704577     4797693           |4795427||8774843||8800916||4797693|  4795427   \n",
       "\n",
       "        VLID_Parent Parent Knotentyp    Parent-Type  \\\n",
       "146620      2448645        Metadaten  journal issue   \n",
       "384554      2889910        Metadaten        article   \n",
       "63474       2326081   Strukturknoten        chapter   \n",
       "296645      2653540        Metadaten  journal issue   \n",
       "704577      8800916        Metadaten  journal issue   \n",
       "\n",
       "                                               Zs_Caption Volume_Caption  \\\n",
       "146620                                       Der Israelit       8 (1835)   \n",
       "384554  Monatsschrift für Geschichte und Wissenschaft ...       8 (1835)   \n",
       "63474                                  Im deutschen Reich       8 (1835)   \n",
       "296645                                 Jüdische Rundschau       8 (1835)   \n",
       "704577                                 Literarishe bleter       8 (1835)   \n",
       "\n",
       "                  Heft_Caption  \\\n",
       "146620  Heft 38-39 (14.5.1896)   \n",
       "384554                  Heft 3   \n",
       "63474     Heft 6-7 (Juni 1900)   \n",
       "296645    Heft 95 (27.11.1934)   \n",
       "704577          28 (15.7.1927)   \n",
       "\n",
       "                                          Aufsatz_Caption       Datum  \\\n",
       "146620                                                NaN  1896-05-14   \n",
       "384554  Beiträge zur Geschichte und Literatur im gaonä...  1910-01-01   \n",
       "63474                                [Ohne Titel] / A. L.  1900-06-01   \n",
       "296645                                                NaN  1934-11-27   \n",
       "704577                                                NaN  1927-07-15   \n",
       "\n",
       "        Seite (OT_SORT) Seite_Caption Seitenzahl_Caption  \n",
       "146620               25           NaN             (null)  \n",
       "384554               14     Seite 318                318  \n",
       "63474                 4           NaN                328  \n",
       "296645                2           NaN             (null)  \n",
       "704577                6     Seite 534                534  "
      ],
      "text/html": [
       "<div>\n",
       "<style scoped>\n",
       "    .dataframe tbody tr th:only-of-type {\n",
       "        vertical-align: middle;\n",
       "    }\n",
       "\n",
       "    .dataframe tbody tr th {\n",
       "        vertical-align: top;\n",
       "    }\n",
       "\n",
       "    .dataframe thead th {\n",
       "        text-align: right;\n",
       "    }\n",
       "</style>\n",
       "<table border=\"1\" class=\"dataframe\">\n",
       "  <thead>\n",
       "    <tr style=\"text-align: right;\">\n",
       "      <th></th>\n",
       "      <th>VLID_Seite</th>\n",
       "      <th>OT_PATH</th>\n",
       "      <th>VLID_Zs</th>\n",
       "      <th>VLID_Parent</th>\n",
       "      <th>Parent Knotentyp</th>\n",
       "      <th>Parent-Type</th>\n",
       "      <th>Zs_Caption</th>\n",
       "      <th>Volume_Caption</th>\n",
       "      <th>Heft_Caption</th>\n",
       "      <th>Aufsatz_Caption</th>\n",
       "      <th>Datum</th>\n",
       "      <th>Seite (OT_SORT)</th>\n",
       "      <th>Seite_Caption</th>\n",
       "      <th>Seitenzahl_Caption</th>\n",
       "    </tr>\n",
       "  </thead>\n",
       "  <tbody>\n",
       "    <tr>\n",
       "      <th>146620</th>\n",
       "      <td>2490775</td>\n",
       "      <td>|2446951||2448608||2448645||2490775|</td>\n",
       "      <td>2446951</td>\n",
       "      <td>2448645</td>\n",
       "      <td>Metadaten</td>\n",
       "      <td>journal issue</td>\n",
       "      <td>Der Israelit</td>\n",
       "      <td>8 (1835)</td>\n",
       "      <td>Heft 38-39 (14.5.1896)</td>\n",
       "      <td>NaN</td>\n",
       "      <td>1896-05-14</td>\n",
       "      <td>25</td>\n",
       "      <td>NaN</td>\n",
       "      <td>(null)</td>\n",
       "    </tr>\n",
       "    <tr>\n",
       "      <th>384554</th>\n",
       "      <td>2890001</td>\n",
       "      <td>|2829132||2829827||2829831||2889910||2890001|</td>\n",
       "      <td>2829132</td>\n",
       "      <td>2889910</td>\n",
       "      <td>Metadaten</td>\n",
       "      <td>article</td>\n",
       "      <td>Monatsschrift für Geschichte und Wissenschaft ...</td>\n",
       "      <td>8 (1835)</td>\n",
       "      <td>Heft 3</td>\n",
       "      <td>Beiträge zur Geschichte und Literatur im gaonä...</td>\n",
       "      <td>1910-01-01</td>\n",
       "      <td>14</td>\n",
       "      <td>Seite 318</td>\n",
       "      <td>318</td>\n",
       "    </tr>\n",
       "    <tr>\n",
       "      <th>63474</th>\n",
       "      <td>2326179</td>\n",
       "      <td>|2316602||2316663||2316670||2326081||2326179|</td>\n",
       "      <td>2316602</td>\n",
       "      <td>2326081</td>\n",
       "      <td>Strukturknoten</td>\n",
       "      <td>chapter</td>\n",
       "      <td>Im deutschen Reich</td>\n",
       "      <td>8 (1835)</td>\n",
       "      <td>Heft 6-7 (Juni 1900)</td>\n",
       "      <td>[Ohne Titel] / A. L.</td>\n",
       "      <td>1900-06-01</td>\n",
       "      <td>4</td>\n",
       "      <td>NaN</td>\n",
       "      <td>328</td>\n",
       "    </tr>\n",
       "    <tr>\n",
       "      <th>296645</th>\n",
       "      <td>2683242</td>\n",
       "      <td>|2651273||2653452||2653540||2683242|</td>\n",
       "      <td>2651273</td>\n",
       "      <td>2653540</td>\n",
       "      <td>Metadaten</td>\n",
       "      <td>journal issue</td>\n",
       "      <td>Jüdische Rundschau</td>\n",
       "      <td>8 (1835)</td>\n",
       "      <td>Heft 95 (27.11.1934)</td>\n",
       "      <td>NaN</td>\n",
       "      <td>1934-11-27</td>\n",
       "      <td>2</td>\n",
       "      <td>NaN</td>\n",
       "      <td>(null)</td>\n",
       "    </tr>\n",
       "    <tr>\n",
       "      <th>704577</th>\n",
       "      <td>4797693</td>\n",
       "      <td>|4795427||8774843||8800916||4797693|</td>\n",
       "      <td>4795427</td>\n",
       "      <td>8800916</td>\n",
       "      <td>Metadaten</td>\n",
       "      <td>journal issue</td>\n",
       "      <td>Literarishe bleter</td>\n",
       "      <td>8 (1835)</td>\n",
       "      <td>28 (15.7.1927)</td>\n",
       "      <td>NaN</td>\n",
       "      <td>1927-07-15</td>\n",
       "      <td>6</td>\n",
       "      <td>Seite 534</td>\n",
       "      <td>534</td>\n",
       "    </tr>\n",
       "  </tbody>\n",
       "</table>\n",
       "</div>"
      ]
     },
     "execution_count": 4,
     "metadata": {},
     "output_type": "execute_result"
    }
   ],
   "execution_count": 4
  },
  {
   "cell_type": "code",
   "source": [
    "# pandas get all headers\n",
    "df_metatdata.columns"
   ],
   "metadata": {
    "collapsed": false,
    "ExecuteTime": {
     "end_time": "2024-04-22T08:03:51.841231Z",
     "start_time": "2024-04-22T08:03:51.838091Z"
    }
   },
   "id": "7b27ddeda07b5d15",
   "outputs": [
    {
     "data": {
      "text/plain": [
       "Index(['VLID_Seite', 'OT_PATH', 'VLID_Zs', 'VLID_Parent', 'Parent Knotentyp',\n",
       "       'Parent-Type', 'Zs_Caption', 'Volume_Caption', 'Heft_Caption',\n",
       "       'Aufsatz_Caption', 'Datum', 'Seite (OT_SORT)', 'Seite_Caption',\n",
       "       'Seitenzahl_Caption'],\n",
       "      dtype='object')"
      ]
     },
     "execution_count": 5,
     "metadata": {},
     "output_type": "execute_result"
    }
   ],
   "execution_count": 5
  },
  {
   "metadata": {},
   "cell_type": "markdown",
   "source": "## Bereinigung der Daten",
   "id": "d2f00a612fffca05"
  },
  {
   "cell_type": "code",
   "execution_count": null,
   "outputs": [],
   "source": [
    "# drop columns VLID Seite, OT_PAHT, VLID_Zs\n",
    "df_metatdata.drop(['VLID_Seite', 'OT_PATH', 'VLID_Zs', 'VLID_Parent', 'Parent Knotentyp', 'Seite (OT_SORT)', 'Seite_Caption', 'Seitenzahl_Caption'], axis=1, inplace=True)"
   ],
   "metadata": {
    "collapsed": false
   },
   "id": "2d0c32f68dc9b36"
  },
  {
   "cell_type": "code",
   "execution_count": null,
   "outputs": [],
   "source": [
    "# list all values in column 'Parent-Type'\n",
    "df_metatdata['Parent-Type'].unique()\n"
   ],
   "metadata": {
    "collapsed": false
   },
   "id": "c0a7082c062440bb"
  },
  {
   "metadata": {},
   "cell_type": "markdown",
   "source": "",
   "id": "b0d2080c2c1ff375"
  },
  {
   "cell_type": "code",
   "execution_count": null,
   "outputs": [],
   "source": [
    "df_metatdata['Zs_Caption'].unique()"
   ],
   "metadata": {
    "collapsed": false
   },
   "id": "3a61695ddc6f6b58"
  },
  {
   "cell_type": "code",
   "execution_count": null,
   "outputs": [],
   "source": [
    "# remove duplicates in column 'Zs_Caption'\n",
    "df_metatdata['Zs_Caption'] = df_metatdata['Zs_Caption'].str.replace(' \\(.*\\)', '')"
   ],
   "metadata": {
    "collapsed": false
   },
   "id": "29e1316429c0dad5"
  },
  {
   "cell_type": "code",
   "execution_count": null,
   "outputs": [],
   "source": [
    "df_metatdata['Zs_Caption'].unique()"
   ],
   "metadata": {
    "collapsed": false
   },
   "id": "7d8b7f9a8929a650"
  },
  {
   "cell_type": "code",
   "execution_count": null,
   "outputs": [],
   "source": [
    "df_metatdata.sample(5)"
   ],
   "metadata": {
    "collapsed": false
   },
   "id": "8703ed02adadd1de"
  },
  {
   "cell_type": "code",
   "execution_count": null,
   "outputs": [],
   "source": [
    "df_metatdata['Aufsatz_Caption'].unique()"
   ],
   "metadata": {
    "collapsed": false
   },
   "id": "1b632a2130858b69"
  },
  {
   "cell_type": "code",
   "execution_count": null,
   "outputs": [],
   "source": [
    "# load a pickle file\n",
    "import pickle\n",
    "\n",
    "# Open the Pickle file\n",
    "with open('metadata/journal_metadata/journal_list.pickle', 'rb') as file:\n",
    "    # Load the Pickle data\n",
    "    loaded_data = pickle.load(file)\n",
    "\n",
    "# Close the file\n",
    "file.close()\n",
    "\n",
    "# Now you can work with the loaded data\n",
    "print(loaded_data)\n"
   ],
   "metadata": {
    "collapsed": false
   },
   "id": "b69dfbeff5737778"
  },
  {
   "cell_type": "code",
   "execution_count": null,
   "outputs": [],
   "source": [
    "import json\n",
    "\n",
    "with open('metadata/journal_metadata/journal_metadata_title_lang.json', 'r') as file:\n",
    "    data = json.load(file)"
   ],
   "metadata": {
    "collapsed": false
   },
   "id": "6bcfe20d0c239b83"
  },
  {
   "cell_type": "code",
   "execution_count": null,
   "outputs": [],
   "source": [
    "import pprint\n",
    "pprint.pprint(data)"
   ],
   "metadata": {
    "collapsed": false
   },
   "id": "96a366be8d265e6e"
  },
  {
   "cell_type": "markdown",
   "source": [
    "# DNB SRU"
   ],
   "metadata": {
    "collapsed": false
   },
   "id": "e2c77732d7dcce71"
  },
  {
   "cell_type": "code",
   "execution_count": 1,
   "outputs": [],
   "source": [
    "import requests\n",
    "from bs4 import BeautifulSoup as soup\n",
    "import unicodedata\n",
    "from lxml import etree\n",
    "import pandas as pd\n"
   ],
   "metadata": {
    "collapsed": false,
    "ExecuteTime": {
     "end_time": "2023-12-05T08:18:40.248713Z",
     "start_time": "2023-12-05T08:18:25.663355Z"
    }
   },
   "id": "524ec391633a96fd"
  },
  {
   "cell_type": "code",
   "execution_count": 2,
   "outputs": [],
   "source": [
    "def dnb_sru(query, library='dnb'):\n",
    "    base_url = \"https://services.dnb.de/sru/\" + library\n",
    "    params = {'recordSchema' : 'MARC21-xml',\n",
    "              'operation': 'searchRetrieve',\n",
    "              'version': '1.1',\n",
    "              'maximumRecords': '1000',\n",
    "              'query': query\n",
    "              }\n",
    "    r = requests.get(base_url, params=params)\n",
    "    xml = soup(r.content)\n",
    "    records = xml.find_all('record', {'type':'Bibliographic'})\n",
    "\n",
    "    if len(records) < 100:\n",
    "\n",
    "        return records\n",
    "\n",
    "    else:\n",
    "\n",
    "        num_results = 100\n",
    "        i = 101\n",
    "        while num_results == 100:\n",
    "\n",
    "            params.update({'startRecord': i})\n",
    "            r = requests.get(base_url, params=params)\n",
    "            xml = soup(r.content)\n",
    "            new_records = xml.find_all('record', {'type':'Bibliographic'})\n",
    "            records+=new_records\n",
    "            i+=100\n",
    "            num_results = len(new_records)\n",
    "\n",
    "        return records"
   ],
   "metadata": {
    "collapsed": false,
    "ExecuteTime": {
     "end_time": "2023-12-05T08:18:40.250399Z",
     "start_time": "2023-12-05T08:18:40.246369Z"
    }
   },
   "id": "6ab6bf3cab697df5"
  },
  {
   "cell_type": "code",
   "execution_count": 3,
   "outputs": [
    {
     "name": "stderr",
     "output_type": "stream",
     "text": [
      "/Users/benni/.venv/lib/python3.11/site-packages/bs4/builder/__init__.py:545: XMLParsedAsHTMLWarning: It looks like you're parsing an XML document using an HTML parser. If this really is an HTML document (maybe it's XHTML?), you can ignore or filter this warning. If it's XML, you should know that using an XML parser will be more reliable. To parse this document as XML, make sure you have the lxml package installed, and pass the keyword argument `features=\"xml\"` into the BeautifulSoup constructor.\n",
      "  warnings.warn(\n"
     ]
    },
    {
     "name": "stdout",
     "output_type": "stream",
     "text": [
      "1393 Ergebnisse\n"
     ]
    }
   ],
   "source": [
    "records = dnb_sru('tit=Judaica')\n",
    "print(len(records), 'Ergebnisse')"
   ],
   "metadata": {
    "collapsed": false,
    "ExecuteTime": {
     "end_time": "2023-12-05T08:18:56.046328Z",
     "start_time": "2023-12-05T08:18:40.255845Z"
    }
   },
   "id": "8290b83c6c477034"
  },
  {
   "cell_type": "code",
   "execution_count": 4,
   "outputs": [
    {
     "ename": "TypeError",
     "evalue": "unhashable type: 'ResultSet'",
     "output_type": "error",
     "traceback": [
      "\u001B[0;31m---------------------------------------------------------------------------\u001B[0m",
      "\u001B[0;31mTypeError\u001B[0m                                 Traceback (most recent call last)",
      "Cell \u001B[0;32mIn[4], line 2\u001B[0m\n\u001B[1;32m      1\u001B[0m \u001B[38;5;28;01mimport\u001B[39;00m \u001B[38;5;21;01mxml\u001B[39;00m\u001B[38;5;21;01m.\u001B[39;00m\u001B[38;5;21;01mdom\u001B[39;00m\u001B[38;5;21;01m.\u001B[39;00m\u001B[38;5;21;01mminidom\u001B[39;00m\n\u001B[0;32m----> 2\u001B[0m temp \u001B[38;5;241m=\u001B[39m soup(\u001B[38;5;28;43mopen\u001B[39;49m\u001B[43m(\u001B[49m\u001B[43mrecords\u001B[49m\u001B[43m)\u001B[49m, \u001B[38;5;124m\"\u001B[39m\u001B[38;5;124mxml\u001B[39m\u001B[38;5;124m\"\u001B[39m)\n\u001B[1;32m      3\u001B[0m new_xml \u001B[38;5;241m=\u001B[39m temp\u001B[38;5;241m.\u001B[39mprettify()\n\u001B[1;32m      4\u001B[0m \u001B[38;5;28mprint\u001B[39m(new_xml)\n",
      "File \u001B[0;32m~/.venv/lib/python3.11/site-packages/IPython/core/interactiveshell.py:275\u001B[0m, in \u001B[0;36m_modified_open\u001B[0;34m(file, *args, **kwargs)\u001B[0m\n\u001B[1;32m    273\u001B[0m \u001B[38;5;129m@functools\u001B[39m\u001B[38;5;241m.\u001B[39mwraps(io_open)\n\u001B[1;32m    274\u001B[0m \u001B[38;5;28;01mdef\u001B[39;00m \u001B[38;5;21m_modified_open\u001B[39m(file, \u001B[38;5;241m*\u001B[39margs, \u001B[38;5;241m*\u001B[39m\u001B[38;5;241m*\u001B[39mkwargs):\n\u001B[0;32m--> 275\u001B[0m     \u001B[38;5;28;01mif\u001B[39;00m \u001B[43mfile\u001B[49m\u001B[43m \u001B[49m\u001B[38;5;129;43;01min\u001B[39;49;00m\u001B[43m \u001B[49m\u001B[43m{\u001B[49m\u001B[38;5;241;43m0\u001B[39;49m\u001B[43m,\u001B[49m\u001B[43m \u001B[49m\u001B[38;5;241;43m1\u001B[39;49m\u001B[43m,\u001B[49m\u001B[43m \u001B[49m\u001B[38;5;241;43m2\u001B[39;49m\u001B[43m}\u001B[49m:\n\u001B[1;32m    276\u001B[0m         \u001B[38;5;28;01mraise\u001B[39;00m \u001B[38;5;167;01mValueError\u001B[39;00m(\n\u001B[1;32m    277\u001B[0m             \u001B[38;5;124mf\u001B[39m\u001B[38;5;124m\"\u001B[39m\u001B[38;5;124mIPython won\u001B[39m\u001B[38;5;124m'\u001B[39m\u001B[38;5;124mt let you open fd=\u001B[39m\u001B[38;5;132;01m{\u001B[39;00mfile\u001B[38;5;132;01m}\u001B[39;00m\u001B[38;5;124m by default \u001B[39m\u001B[38;5;124m\"\u001B[39m\n\u001B[1;32m    278\u001B[0m             \u001B[38;5;124m\"\u001B[39m\u001B[38;5;124mas it is likely to crash IPython. If you know what you are doing, \u001B[39m\u001B[38;5;124m\"\u001B[39m\n\u001B[1;32m    279\u001B[0m             \u001B[38;5;124m\"\u001B[39m\u001B[38;5;124myou can use builtins\u001B[39m\u001B[38;5;124m'\u001B[39m\u001B[38;5;124m open.\u001B[39m\u001B[38;5;124m\"\u001B[39m\n\u001B[1;32m    280\u001B[0m         )\n\u001B[1;32m    282\u001B[0m     \u001B[38;5;28;01mreturn\u001B[39;00m io_open(file, \u001B[38;5;241m*\u001B[39margs, \u001B[38;5;241m*\u001B[39m\u001B[38;5;241m*\u001B[39mkwargs)\n",
      "\u001B[0;31mTypeError\u001B[0m: unhashable type: 'ResultSet'"
     ]
    }
   ],
   "source": [
    "import xml.dom.minidom\n",
    "temp = soup(open(records), \"xml\")\n",
    "new_xml = temp.prettify()\n",
    "print(new_xml)"
   ],
   "metadata": {
    "collapsed": false,
    "ExecuteTime": {
     "end_time": "2023-12-05T08:18:56.362814Z",
     "start_time": "2023-12-05T08:18:56.047049Z"
    }
   },
   "id": "d88c0e4586c23c6"
  },
  {
   "cell_type": "code",
   "execution_count": null,
   "outputs": [],
   "source": [
    "def parse_record(record):\n",
    "\n",
    "    ns = {\"marc\":\"http://www.loc.gov/MARC21/slim\"}\n",
    "    xml = etree.fromstring(unicodedata.normalize(\"NFC\", str(record)))\n",
    "\n",
    "    #idn\n",
    "    idn = xml.xpath(\"marc:controlfield[@tag = '001']\", namespaces=ns)\n",
    "    try:\n",
    "        idn = idn[0].text\n",
    "    except:\n",
    "        idn = 'fail'\n",
    "\n",
    "    # titel\n",
    "    title = xml.xpath(\"marc:datafield[@tag = '245']/marc:subfield[@code = 'a']\", namespaces=ns)\n",
    "    subtitle = xml.xpath(\"marc:datafield[@tag = '245']/marc:subfield[@code = 'b']\", namespaces=ns)\n",
    "\n",
    "    # category\n",
    "    category = xml.xpath(\"marc:datafield[@tag = '084']/marc:subfield[@code = 'a']\", namespaces=ns)\n",
    "\n",
    "    # datum\n",
    "    date = xml.xpath(\"marc:datafield[@tag = '264']/marc:subfield[@code = 'c']\", namespaces=ns)\n",
    "\n",
    "    # person \n",
    "    person = xml.xpath(\"marc:datafield[@tag = '100']/marc:subfield[@code = 'a']\", namespaces=ns)\n",
    "    # ddc\n",
    "    ddc = xml.xpath(\"marc:datafield[@tag = '082']/marc:subfield[@code= 'a']\", namespaces=ns)\n",
    "    #issn\n",
    "    issn = xml.xpath(\"marc:datafield[@tag = '022']/marc:subfield[@code= 'a']\", namespaces=ns)\n",
    "\n",
    "    try:\n",
    "        title = title[0].text\n",
    "        subtitle = subtitle[0].text if len(subtitle) > 0 else \"\"\n",
    "        category = category[0].text if len(category) > 0 else \"\"\n",
    "        date = date[0].text if len(date) > 0 else \"\"\n",
    "        person = person[0].text if len(person) > 0 else \"\"\n",
    "        ddc = ddc[0].text if len(ddc) > 0 else \"\"\n",
    "        issn = issn[0].text if len(issn) > 0 else \"\"\n",
    "        #titel = unicodedata.normalize(\"NFC\", titel)\n",
    "    except:\n",
    "        titel = \"unkown\"\n",
    "\n",
    "    meta_dict = {\"idn\":idn,\n",
    "                 'library':library,\n",
    "                 \"title\":title,\n",
    "                 \"subtitle\":subtitle,\n",
    "                 \"category\":category,\n",
    "                 \"date\":date,\n",
    "                 \"person\":person,\n",
    "                 'ddc':ddc,\n",
    "                 'issn':issn}\n",
    "\n",
    "    return meta_dict"
   ],
   "metadata": {
    "collapsed": false,
    "ExecuteTime": {
     "end_time": "2023-12-05T08:18:56.370323Z",
     "start_time": "2023-12-05T08:18:56.363814Z"
    }
   },
   "id": "ad1705475c0808d"
  },
  {
   "cell_type": "code",
   "execution_count": null,
   "outputs": [],
   "source": [
    "output = [parse_record(record) for record in records]\n",
    "df_test = pd.DataFrame(output)\n",
    "df_test"
   ],
   "metadata": {
    "collapsed": false,
    "ExecuteTime": {
     "start_time": "2023-12-05T08:18:56.370075Z"
    }
   },
   "id": "51ced9ebb11fc03e"
  },
  {
   "cell_type": "code",
   "execution_count": null,
   "outputs": [],
   "source": [
    "# remove the temp_data.pkl file\n",
    "if os.path.exists('temp_data.pkl'):\n",
    "    os.remove('temp_data.pkl')"
   ],
   "metadata": {
    "collapsed": false,
    "ExecuteTime": {
     "end_time": "2023-12-05T08:18:56.372248Z",
     "start_time": "2023-12-05T08:18:56.372024Z"
    }
   },
   "id": "ed46436dd7361e86"
  },
  {
   "cell_type": "code",
   "execution_count": null,
   "outputs": [],
   "source": [
    "# print Zs_Caption unique values\n",
    "titles = df_metatdata['Zs_Caption'].unique()"
   ],
   "metadata": {
    "collapsed": false,
    "ExecuteTime": {
     "start_time": "2023-12-05T08:18:56.374632Z"
    }
   },
   "id": "c2baf65fca90417f"
  },
  {
   "cell_type": "code",
   "execution_count": null,
   "outputs": [],
   "source": [
    "print(titles)"
   ],
   "metadata": {
    "collapsed": false,
    "ExecuteTime": {
     "start_time": "2023-12-05T08:18:56.377512Z"
    }
   },
   "id": "a53f011c191cb4ae"
  },
  {
   "cell_type": "code",
   "execution_count": null,
   "outputs": [],
   "source": [
    "import warnings\n",
    "\n",
    "warnings.filterwarnings('ignore')\n",
    "# go through all the titles in the column 'Zs_Caption'\n",
    "# Load an existing temporary DataFrame if it exists\n",
    "\n",
    "try:\n",
    "    temp_df = pd.read_pickle('temp_data.pkl')\n",
    "except FileNotFoundError:\n",
    "    temp_df = pd.DataFrame()\n",
    "    \n",
    "counter = 1\n",
    "length = len(titles)\n",
    "\n",
    "temp_df = pd.DataFrame()\n",
    "library = 'dnb'\n",
    "column_headers = ['library', 'idn',  'title', 'subtitle', 'category', 'date', 'person', 'ddc', 'issn']\n",
    "\n",
    "for title in titles:\n",
    "    # search for the title in the sru interface\n",
    "    print('Counter: ' + str(counter) + ' of ' + str(length))\n",
    "    # calculate the percentage of the progress\n",
    "    percentage = round(counter / length * 100, 2)\n",
    "    print('Progress: ' + str(percentage) + '%')\n",
    "    print('Searching for: ' + title)\n",
    "    records = dnb_sru('tit=' + title, library=library)\n",
    "    print(len(records), 'Ergebnisse')\n",
    "    \n",
    "    if len(records) > 0:\n",
    "\n",
    "        output = [parse_record(record) for record in records]\n",
    "        df_records = pd.DataFrame(output)\n",
    "        temp_df = pd.concat([temp_df, df_records], ignore_index=True)\n",
    "    counter = counter + 1\n",
    "    # Save the temporary DataFrame to a Pickle file\n",
    "    temp_df.to_pickle('temp_data.pkl')"
   ],
   "metadata": {
    "collapsed": false,
    "ExecuteTime": {
     "start_time": "2023-12-05T08:18:56.379532Z"
    }
   },
   "id": "89d86e14ce0cd2e7"
  },
  {
   "cell_type": "code",
   "execution_count": null,
   "outputs": [],
   "source": [
    "import warnings\n",
    "\n",
    "warnings.filterwarnings('ignore')\n",
    "# go through all the titles in the column 'Zs_Caption'\n",
    "# Load an existing temporary DataFrame if it exists\n",
    "\n",
    "try:\n",
    "    temp_df = pd.read_pickle('temp_data.pkl')\n",
    "except FileNotFoundError:\n",
    "    temp_df = pd.DataFrame()\n",
    "\n",
    "counter = 1\n",
    "length = len(titles)\n",
    "\n",
    "temp_df = pd.DataFrame()\n",
    "library = 'zdb'\n",
    "\n",
    "for title in titles:\n",
    "    # search for the title in the sru interface\n",
    "    print('Counter: ' + str(counter) + ' of ' + str(length))\n",
    "    # calculate the percentage of the progress\n",
    "    percentage = round(counter / length * 100, 2)\n",
    "    print('Progress: ' + str(percentage) + '%')\n",
    "    print('Searching for: ' + title)\n",
    "    records = dnb_sru('tit=' + title, library=library)\n",
    "    print(len(records), 'Ergebnisse')\n",
    "\n",
    "    if len(records) > 0:\n",
    "        output = [parse_record(record) for record in records]\n",
    "        df_records = pd.DataFrame(output)\n",
    "        temp_df = pd.concat([temp_df, df_records], ignore_index=True)\n",
    "    counter = counter + 1\n",
    "    # Save the temporary DataFrame to a Pickle file\n",
    "    temp_df.to_pickle('temp_data.pkl')"
   ],
   "metadata": {
    "collapsed": false,
    "ExecuteTime": {
     "start_time": "2023-12-05T08:18:56.380869Z"
    }
   },
   "id": "811d61eccad9cfb7"
  },
  {
   "cell_type": "code",
   "execution_count": null,
   "outputs": [],
   "source": [],
   "metadata": {
    "collapsed": false,
    "ExecuteTime": {
     "start_time": "2023-12-05T08:18:56.383325Z"
    }
   },
   "id": "2716309e3663ad6f"
  },
  {
   "cell_type": "code",
   "execution_count": null,
   "outputs": [],
   "source": [
    "large_df = pd.DataFrame()\n",
    "# Load the temporary DataFrame from the Pickle file\n",
    "temp_df = pd.read_pickle('temp_data.pkl')\n",
    "\n",
    "# Append the temporary DataFrame to your large DataFrame\n",
    "large_df = pd.concat([large_df, temp_df], ignore_index=True)\n",
    "\n",
    "# remove duplicates\n",
    "large_df.drop_duplicates(subset=['title', 'date'], keep='first', inplace=True)\n",
    "\n",
    "# Save the large DataFrame to a CSV file\n",
    "large_df.to_csv('final_data.csv', index=True, sep=';')\n",
    "\n",
    "large_df.to_excel('final_data.xlsx')"
   ],
   "metadata": {
    "collapsed": false,
    "ExecuteTime": {
     "start_time": "2023-12-05T08:18:56.384682Z"
    }
   },
   "id": "77e392a6c84d4a09"
  },
  {
   "cell_type": "markdown",
   "source": [
    "# Ideen, Fragen\n",
    "\n",
    "Daten bereinigen\n",
    "Wie kann ich die Anfrage präzisieren?\n",
    "1. Kategorie rausfiltern, nur Judaica\n",
    "2. Exaktes Matching vom Titel - z.B. Jahresbericht.\n",
    "\n",
    "Herangehensweise 1\n",
    "Bestehenden Bestand ergänzen.\n",
    "2. Neue Zeitschriften aus dem Bereich Judacia oder bestimmten \n",
    "\n",
    "Gesamten Judaica Bestand abfragen.\n",
    "1. Zeitschriften\n",
    "2. Monografien\n",
    "\n",
    "Über OAI Schnittstelle Sammlungen abfragen\n",
    "\n",
    "\n",
    "# Ontologie erstellen\n",
    "\n",
    "Typische Ontoilogie für Zeitschriften, vollständig für unsere Datenbank\n",
    "Titel\n",
    "Datum von bis \n",
    "\n",
    "\n",
    "\n"
   ],
   "metadata": {
    "collapsed": false
   },
   "id": "93d4ac0f2dc500d"
  },
  {
   "cell_type": "markdown",
   "source": [
    "# Statistische Auswertungen\n",
    "\n",
    "Welche Daten konnten vervollständigt werden\n"
   ],
   "metadata": {
    "collapsed": false
   },
   "id": "e5d7e9518e8721e"
  },
  {
   "cell_type": "markdown",
   "source": [
    "# ZDB (Zeitschriftendatenbank)\n"
   ],
   "metadata": {
    "collapsed": false
   },
   "id": "deb60049d8fca832"
  }
 ],
 "metadata": {
  "kernelspec": {
   "display_name": "Python 3",
   "language": "python",
   "name": "python3"
  },
  "language_info": {
   "codemirror_mode": {
    "name": "ipython",
    "version": 2
   },
   "file_extension": ".py",
   "mimetype": "text/x-python",
   "name": "python",
   "nbconvert_exporter": "python",
   "pygments_lexer": "ipython2",
   "version": "2.7.6"
  }
 },
 "nbformat": 4,
 "nbformat_minor": 5
}
