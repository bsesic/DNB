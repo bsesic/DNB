{
 "cells": [
  {
   "metadata": {},
   "cell_type": "markdown",
   "source": [
    "# Ontology for the metadata\n",
    "\n",
    "This notebook is used to create the ontology for the metadata of the Judaicalink project. The ontology is created in RDF and is used to describe the metadata of the books and journals in the Judaicalink project. The ontology is created using the RDFlib library in Python.\n",
    "\n",
    "Important Namespaces are:\n",
    "GNDO - https://d-nb.info/standards/elementset/gnd\n",
    "Judaicalink - http://data.judaicalink.org/ontology/\n",
    "\n",
    "The generator ist based on the Ontology-Builder for the Judaicalink project.\n",
    "https://github.com/judaicalink/judaicalink-ontology\n"
   ],
   "id": "ff7f07715939dfbf"
  },
  {
   "metadata": {
    "ExecuteTime": {
     "end_time": "2024-04-29T21:23:37.560446Z",
     "start_time": "2024-04-29T21:23:37.549655Z"
    }
   },
   "cell_type": "code",
   "source": [
    "rdf_data= \"\"\"\n",
    "@prefix rdf: <http://www.w3.org/1999/02/22-rdf-syntax-ns#> .\n",
    "@prefix rdfs: <http://www.w3.org/2000/01/rdf-schema#> .\n",
    "@prefix owl: <http://www.w3.org/2002/07/owl#> .\n",
    "@prefix gndo: <https://d-nb.info/standards/elementset/gnd#> .\n",
    "@prefix jl: <https://ontology.judaicalink.org/> .\n",
    "@prefix cm: <https://sammlungen.ub.uni-frankfurt.de/cm/> .\n",
    "\n",
    "# Define the class Journal\n",
    "cm:Journal a owl:Class ;\n",
    "    rdfs:label \"Journal\" ;\n",
    "    rdfs:subClassOf gndo:Periodical .\n",
    "    \n",
    "cm:YearFrom a owl:DatatypeProperty ;\n",
    "    rdfs:label \"Year From\" ;\n",
    "    rdfs:domain cm:Journal ;\n",
    "    rdfs:range jl:gYear .\n",
    "    \n",
    "cm:YearTo a owl:DatatypeProperty ;\n",
    "    rdfs:label \"Year To\" ;\n",
    "    rdfs:domain cm:Journal ;\n",
    "    rdfs:range jl:gYear .\n",
    "    \n",
    "# Define properties of Journal\n",
    "cm:title a owl:DatatypeProperty ;\n",
    "    rdfs:label \"Title\" ;\n",
    "    rdfs:domain cm:Journal .\n",
    "\n",
    "cm:governingBody a owl:ObjectProperty ;\n",
    "    rdfs:label \"Governing Body\" ;\n",
    "    rdfs:domain cm:Journal ;\n",
    "    rdfs:range gndo:CorporateBody .\n",
    "\n",
    "cm:description a owl:DatatypeProperty ;\n",
    "    rdfs:label \"Description\" ;\n",
    "    rdfs:domain cm:Journal .\n",
    "\n",
    "cm:language a owl:DatatypeProperty ;\n",
    "    rdfs:label \"Language\" ;\n",
    "    rdfs:domain cm:Journal ;\n",
    "    rdfs:range jl:string .\n",
    "\n",
    "cm:onlineEdition a owl:DatatypeProperty ;\n",
    "    rdfs:label \"Online Edition\" ;\n",
    "    rdfs:domain cm:Journal ;\n",
    "    rdfs:range jl:string .\n",
    "\n",
    "cm:URN a owl:DatatypeProperty ;\n",
    "    rdfs:label \"URN\" ;\n",
    "    rdfs:domain cm:Journal ;\n",
    "    rdfs:range jl:string .\n",
    "\n",
    "# Define subclass Publication\n",
    "cm:Publication a owl:Class ;\n",
    "    rdfs:label \"Publication\" .\n",
    "\n",
    "# Define properties of Publication\n",
    "cm:place a owl:DatatypeProperty ;\n",
    "    rdfs:label \"Place\" ;\n",
    "    rdfs:domain cm:Publication ;\n",
    "    rdfs:range jl:string .\n",
    "\n",
    "cm:publisher a owl:DatatypeProperty ;\n",
    "    rdfs:label \"Publisher\" ;\n",
    "    rdfs:domain cm:Publication ;\n",
    "    rdfs:range jl:string .\n",
    "\n",
    "cm:printingPress a owl:DatatypeProperty ;\n",
    "    rdfs:label \"Printing Press\" ;\n",
    "    rdfs:domain cm:Publication ;\n",
    "    rdfs:range jl:string .\n",
    "\n",
    "cm:publicationDate a owl:DatatypeProperty ;\n",
    "    rdfs:label \"Publication Date\" ;\n",
    "    rdfs:domain cm:Publication ;\n",
    "    rdfs:range jl:date .\n",
    "\n",
    "# Define subclass Volume\n",
    "cm:Volume a owl:Class ;\n",
    "    rdfs:label \"Volume\" .\n",
    "\n",
    "# Define properties of Volume\n",
    "cm:hasIssue a owl:ObjectProperty ;\n",
    "    rdfs:label \"Has Issue\" ;\n",
    "    rdfs:domain cm:Volume ;\n",
    "    rdfs:range cm:Issue .\n",
    "\n",
    "# Define subclass Issue\n",
    "cm:Issue a owl:Class ;\n",
    "    rdfs:label \"Issue\" .\n",
    "\n",
    "# Define properties of Issue\n",
    "cm:issueNumber a owl:DatatypeProperty ;\n",
    "    rdfs:label \"Issue Number\" ;\n",
    "    rdfs:domain cm:Issue ;\n",
    "    rdfs:range jl:integer .\n",
    "\n",
    "cm:issueYear a owl:DatatypeProperty ;\n",
    "    rdfs:label \"Issue Year\" ;\n",
    "    rdfs:domain cm:Issue ;\n",
    "    rdfs:range jl:gYear .\n",
    "    \n",
    "cm:issueDate a owl:DatatypeProperty ;\n",
    "    rdfs:label \"Issue Date\" ;\n",
    "    rdfs:domain cm:Issue ;\n",
    "    rdfs:range jl:date .\n",
    "\n",
    "cm:issueLink a owl:DatatypeProperty ;\n",
    "    rdfs:label \"Issue Link\" ;\n",
    "    rdfs:domain cm:Issue ;\n",
    "    rdfs:range jl:anyURI .\n",
    "\n",
    "cm:digitalizationType a owl:DatatypeProperty ;\n",
    "    rdfs:label \"Digitalization Type\" ;\n",
    "    rdfs:domain cm:Issue ;\n",
    "    rdfs:range jl:string .\n",
    "\n",
    "# Define additional properties for Journal\n",
    "cm:hasVolume a owl:ObjectProperty ;\n",
    "    rdfs:label \"Has Volume\" ;\n",
    "    rdfs:domain cm:Journal ;\n",
    "    rdfs:range cm:Volume .\n",
    "\n",
    "cm:hasTitlePage a owl:ObjectProperty ;\n",
    "    rdfs:label \"Has Title Page\" ;\n",
    "    rdfs:domain cm:Journal ;\n",
    "    rdfs:range cm:TitlePage .\n",
    "\n",
    "cm:hasTableOfContents a owl:ObjectProperty ;\n",
    "    rdfs:label \"Has Table of Contents\" ;\n",
    "    rdfs:domain cm:Journal ;\n",
    "    rdfs:range cm:TableOfContents .\n",
    "\n",
    "cm:alternativeTitle a owl:DatatypeProperty ;\n",
    "    rdfs:label \"Alternative Title\" ;\n",
    "    rdfs:domain cm:Journal ;\n",
    "    rdfs:range jl:string .\n",
    "\n",
    "cm:corpusBelongsTo a owl:ObjectProperty ;\n",
    "    rdfs:label \"Corpus Belongs To\" ;\n",
    "    rdfs:domain cm:Journal ;\n",
    "    rdfs:range gndo:Corpus .\n",
    "\n",
    "cm:continuedUnder a owl:ObjectProperty ;\n",
    "    rdfs:label \"Continued Under\" ;\n",
    "    rdfs:domain cm:Journal ;\n",
    "    rdfs:range cm:Journal .\n",
    "\n",
    "cm:linkedJournal a owl:ObjectProperty ;\n",
    "    rdfs:label \"Linked Journal\" ;\n",
    "    rdfs:domain cm:Journal ;\n",
    "    rdfs:range cm:Journal .\n",
    "\n",
    "# Define subclass TitlePage\n",
    "cm:TitlePage a owl:Class ;\n",
    "    rdfs:label \"Title Page\" .\n",
    "\n",
    "# Define properties of TitlePage\n",
    "cm:titleDescription a owl:DatatypeProperty ;\n",
    "    rdfs:label \"Title Description\" ;\n",
    "    rdfs:domain cm:TitlePage ;\n",
    "    rdfs:range jl:string .\n",
    "\n",
    "cm:titleLink a owl:DatatypeProperty ;\n",
    "    rdfs:label \"Title Link\" ;\n",
    "    rdfs:domain cm:TitlePage ;\n",
    "    rdfs:range jl:anyURI .\n",
    "\n",
    "# Define subclass TableOfContents\n",
    "cm:TableOfContents a owl:Class ;\n",
    "    rdfs:label \"Table of Contents\" .\n",
    "\n",
    "# Define properties of TableOfContents\n",
    "cm:contentsTitle a owl:DatatypeProperty ;\n",
    "    rdfs:label \"Contents Title\" ;\n",
    "    rdfs:domain cm:TableOfContents ;\n",
    "    rdfs:range jl:string .\n",
    "\n",
    "cm:contentsLink a owl:DatatypeProperty ;\n",
    "    rdfs:label \"Contents Link\" ;\n",
    "    rdfs:domain cm:TableOfContents ;\n",
    "    rdfs:range jl:anyURI .\n",
    "\"\"\""
   ],
   "id": "6543669709401170",
   "outputs": [],
   "execution_count": 2
  },
  {
   "metadata": {},
   "cell_type": "markdown",
   "source": "! The ontology is saved in the file ontology.ttl",
   "id": "1fe14730b31e1b7b"
  },
  {
   "metadata": {},
   "cell_type": "markdown",
   "source": "# Save the Ontology",
   "id": "68ed63fb03d2193c"
  },
  {
   "metadata": {
    "ExecuteTime": {
     "end_time": "2024-04-29T21:30:22.330629Z",
     "start_time": "2024-04-29T21:30:22.315380Z"
    }
   },
   "cell_type": "code",
   "source": [
    "from rdflib import Graph\n",
    "\n",
    "# Create an empty RDF graph\n",
    "graph = Graph()\n",
    "\n",
    "graph.parse(data=rdf_data, format=\"turtle\")\n",
    "\n",
    "# Define the output file path\n",
    "output_file_path = 'ontology.ttl'\n",
    "\n",
    "# Serialize the graph into Turtle format and write it to a file\n",
    "with open(output_file_path, 'w') as output_file:\n",
    "    output_file.write(graph.serialize(format='turtle'))\n",
    "\n",
    "print(\"Ontology Turtle file created successfully at:\", output_file_path)"
   ],
   "id": "3f1a80eea48983e3",
   "outputs": [
    {
     "name": "stdout",
     "output_type": "stream",
     "text": [
      "Ontology Turtle file created successfully at: ontology.ttl\n"
     ]
    }
   ],
   "execution_count": 7
  },
  {
   "metadata": {},
   "cell_type": "markdown",
   "source": "# Zeitschriften in Compact Memory\n",
   "id": "d4e4fc59b3d819ff"
  },
  {
   "metadata": {},
   "cell_type": "markdown",
   "source": "### Save the data to the graph",
   "id": "13bcc9ccf1fbb708"
  },
  {
   "metadata": {},
   "cell_type": "code",
   "source": [
    "import pandas as pd\n",
    "from rdflib import Graph, Namespace, Literal, URIRef\n",
    "from rdflib.namespace import RDF, RDFS, XSD\n",
    "\n",
    "# Load the DataFrame\n",
    "\n",
    "# Filter out rows with NaN values in specified columns\n",
    "#df = df.dropna(subset=['Zs_Caption', 'Volume_Caption', 'Heft_Caption', 'Datum'])\n",
    "\n",
    "# Replace NaN values with empty strings\n",
    "df = df.fillna('')\n",
    "\n",
    "# Filter out rows with empty strings in specified columns\n",
    "df = df[(df['Zs_Caption'] != '') &\n",
    "        (df['Volume_Caption'] != '') &\n",
    "        (df['Heft_Caption'] != '') &\n",
    "        (df['Datum'] != '')]\n",
    "\n",
    "# Create an RDF graph\n",
    "g = Graph()\n",
    "\n",
    "# Define namespaces\n",
    "gndo = Namespace(\"https://d-nb.info/standards/elementset/gnd#\")\n",
    "cm = Namespace(\"https://data.judaicalink.org/ontology/cm\")\n",
    "\n",
    "\n",
    "# Iterate over each row and add triples to the graph\n",
    "for idx, row in df.iterrows():\n",
    "    # Check for NaN values in specified columns\n",
    "    if pd.notna(row['Zs_Caption']) and pd.notna(row['Volume_Caption']) and pd.notna(row['Heft_Caption']) and pd.notna(row['Datum']):\n",
    "        # Create URIs for the journal, volume, and issue\n",
    "        journal_uri = URIRef(f\"{cm}{row['Zs_Caption']}\")\n",
    "        volume_uri = URIRef(f\"{cm}{row['Volume_Caption']}\")\n",
    "        issue_uri = URIRef(f\"{cm}{row['Heft_Caption']}\")\n",
    "\n",
    "        # Add triples for the journal, volume, and issue\n",
    "        g.add((journal_uri, RDF.type, gndo.Periodical))\n",
    "        g.add((journal_uri, RDFS.label, Literal(row['Zs_Caption'], datatype=XSD.string)))\n",
    "\n",
    "        g.add((volume_uri, RDF.type, gndo.Volume))\n",
    "        g.add((volume_uri, RDFS.label, Literal(row['Volume_Caption'], datatype=XSD.string)))\n",
    "        g.add((volume_uri, gndo.partOf, journal_uri))\n",
    "\n",
    "        g.add((issue_uri, RDF.type, gndo.Issue))\n",
    "        g.add((issue_uri, RDFS.label, Literal(row['Heft_Caption'], datatype=XSD.string)))\n",
    "        g.add((issue_uri, gndo.partOf, volume_uri))\n",
    "        g.add((issue_uri, gndo.publicationDate, Literal(row['Datum'], datatype=XSD.date)))\n",
    "\n",
    "# Save the graph as a Turtle file\n",
    "g.serialize(destination='output.ttl', format='turtle')\n"
   ],
   "id": "f02151927196c52b",
   "outputs": [],
   "execution_count": 40
  },
  {
   "metadata": {},
   "cell_type": "markdown",
   "source": "## Load the Journal Metadata from the JSON file",
   "id": "eec467b4ae6e1e30"
  },
  {
   "metadata": {},
   "cell_type": "code",
   "outputs": [],
   "execution_count": null,
   "source": [
    "import json\n",
    "\n",
    "with open(\"metadata/journal_metadata/journal_metadata_title_lang.json\") as f:\n",
    "    data = json.load(f)"
   ],
   "id": "aae5e50b9d406107"
  },
  {
   "metadata": {},
   "cell_type": "markdown",
   "source": "# Build the Graph",
   "id": "fd49aeecbfc02220"
  },
  {
   "cell_type": "code",
   "execution_count": null,
   "outputs": [],
   "source": [
    "from rdflib import Graph, Literal, RDF, URIRef, Namespace\n",
    "from rdflib.namespace import DC, FOAF\n",
    "\n",
    "# create GRAPH\n",
    "g = Graph()\n",
    "\n",
    "# create Namespaces\n"
   ],
   "metadata": {
    "collapsed": false
   },
   "id": "227b7e5bff7722ee"
  },
  {
   "cell_type": "markdown",
   "source": "",
   "metadata": {
    "collapsed": false
   },
   "id": "fbdcfde00ff3db75"
  },
  {
   "cell_type": "code",
   "execution_count": null,
   "outputs": [],
   "source": [],
   "metadata": {
    "collapsed": false
   },
   "id": "a2638f54bca38ee8"
  },
  {
   "metadata": {},
   "cell_type": "markdown",
   "source": [
    "# Load CM_Knoten_MODS_XML_15.06.2020\n",
    "This file contains two columns: OC_OT_ID and OC_XML. The OC_OT_ID is the identifier of the object in the database. The OC_XML is the XML representation of the object.\n",
    "\n",
    "This page links to \"CM_Seiten_Metadaten_15.06.2020.xlsx\".\n"
   ],
   "id": "d064d7ee9dfcaf54"
  },
  {
   "metadata": {
    "ExecuteTime": {
     "end_time": "2024-04-22T15:10:05.007900Z",
     "start_time": "2024-04-22T15:10:04.159302Z"
    }
   },
   "cell_type": "code",
   "source": [
    "import pandas as pd\n",
    "\n",
    "# Load the CSV file with dtype parameter\n",
    "df_cm_knots = pd.read_csv(\"metadata/CM_Knoten_MODS_XML_15.06.2020\", sep=\"\\t\")\n",
    "df_cm_knots.head()"
   ],
   "id": "df84de6b6002662",
   "outputs": [
    {
     "data": {
      "text/plain": [
       "   OC_OT_ID                                             OC_XML\n",
       "0   6727495  <mods xmlns=\"http://www.loc.gov/mods/v3\" versi...\n",
       "1   9981088  <mods xmlns=\"http://www.loc.gov/mods/v3\" versi...\n",
       "2   6074819  <mods xmlns=\"http://www.loc.gov/mods/v3\" versi...\n",
       "3   9594165  <mods xmlns=\"http://www.loc.gov/mods/v3\" versi...\n",
       "4   9574181  <mods xmlns=\"http://www.loc.gov/mods/v3\" versi..."
      ],
      "text/html": [
       "<div>\n",
       "<style scoped>\n",
       "    .dataframe tbody tr th:only-of-type {\n",
       "        vertical-align: middle;\n",
       "    }\n",
       "\n",
       "    .dataframe tbody tr th {\n",
       "        vertical-align: top;\n",
       "    }\n",
       "\n",
       "    .dataframe thead th {\n",
       "        text-align: right;\n",
       "    }\n",
       "</style>\n",
       "<table border=\"1\" class=\"dataframe\">\n",
       "  <thead>\n",
       "    <tr style=\"text-align: right;\">\n",
       "      <th></th>\n",
       "      <th>OC_OT_ID</th>\n",
       "      <th>OC_XML</th>\n",
       "    </tr>\n",
       "  </thead>\n",
       "  <tbody>\n",
       "    <tr>\n",
       "      <th>0</th>\n",
       "      <td>6727495</td>\n",
       "      <td>&lt;mods xmlns=\"http://www.loc.gov/mods/v3\" versi...</td>\n",
       "    </tr>\n",
       "    <tr>\n",
       "      <th>1</th>\n",
       "      <td>9981088</td>\n",
       "      <td>&lt;mods xmlns=\"http://www.loc.gov/mods/v3\" versi...</td>\n",
       "    </tr>\n",
       "    <tr>\n",
       "      <th>2</th>\n",
       "      <td>6074819</td>\n",
       "      <td>&lt;mods xmlns=\"http://www.loc.gov/mods/v3\" versi...</td>\n",
       "    </tr>\n",
       "    <tr>\n",
       "      <th>3</th>\n",
       "      <td>9594165</td>\n",
       "      <td>&lt;mods xmlns=\"http://www.loc.gov/mods/v3\" versi...</td>\n",
       "    </tr>\n",
       "    <tr>\n",
       "      <th>4</th>\n",
       "      <td>9574181</td>\n",
       "      <td>&lt;mods xmlns=\"http://www.loc.gov/mods/v3\" versi...</td>\n",
       "    </tr>\n",
       "  </tbody>\n",
       "</table>\n",
       "</div>"
      ]
     },
     "execution_count": 25,
     "metadata": {},
     "output_type": "execute_result"
    }
   ],
   "execution_count": 25
  },
  {
   "metadata": {
    "ExecuteTime": {
     "end_time": "2024-04-22T15:18:37.938677Z",
     "start_time": "2024-04-22T15:18:36.625021Z"
    }
   },
   "cell_type": "code",
   "source": [
    "# interate over the rows\n",
    "import xml.etree.ElementTree as ET\n",
    "\n",
    "for idx, row in df_cm_knots.iterrows():\n",
    "    if idx <= 10:\n",
    "        print(row['OC_OT_ID'])\n",
    "        print(row['OC_XML'])\n",
    "        #tree = ET.parse(row['OC_OT_ID'])\n",
    "        #ֿroot = tree.getroot()\n",
    "        #for child in root:\n",
    "            #print(child.tag, child.attrib)\n",
    "            #for sub_child in child:\n",
    "                #print(sub_child.tag, sub_child.text)"
   ],
   "id": "3ca7884af3ca24e6",
   "outputs": [
    {
     "name": "stdout",
     "output_type": "stream",
     "text": [
      "6727495\n",
      "<mods xmlns=\"http://www.loc.gov/mods/v3\" version=\"3.5\"><part><date encoding=\"w3cdtf\">1936</date><detail><caption>1936</caption></detail></part></mods>\n",
      "9981088\n",
      "<mods xmlns=\"http://www.loc.gov/mods/v3\" version=\"3.5\"><typeOfResource>text</typeOfResource><part><detail><number>21</number></detail><date encoding=\"w3cdtf\">1923</date></part></mods>\n",
      "6074819\n",
      "<mods xmlns=\"http://www.loc.gov/mods/v3\" version=\"3.5\"><typeOfResource>text</typeOfResource><genre authority=\"marcgt\">issue</genre><part><detail><caption>Inhalts-Verzeichnis</caption></detail><date encoding=\"w3cdtf\">1930</date></part></mods>\n",
      "9594165\n",
      "<mods xmlns=\"http://www.loc.gov/mods/v3\" version=\"3.5\"><typeOfResource>text</typeOfResource><genre authority=\"marcgt\">issue</genre><part><detail><caption>Erste Zugabe des zweyten Jahrgangs zu der hebr&#228;ischen Monatsschrift (&#1492;&#1502;&#1488;&#1505;&#1507;) dem Sammler. (December 1784)</caption></detail><date encoding=\"w3cdtf\">1784-12</date></part></mods>\n",
      "9574181\n",
      "<mods xmlns=\"http://www.loc.gov/mods/v3\" version=\"3.5\"><typeOfResource>text</typeOfResource><genre authority=\"marcgt\">issue</genre><part><detail><number>1</number></detail><date encoding=\"w3cdtf\">1886</date></part></mods>\n",
      "9574186\n",
      "<mods xmlns=\"http://www.loc.gov/mods/v3\" version=\"3.5\"><typeOfResource>text</typeOfResource><genre authority=\"marcgt\">issue</genre><part><detail><number>2</number></detail><date encoding=\"w3cdtf\">1886</date></part></mods>\n",
      "9574191\n",
      "<mods xmlns=\"http://www.loc.gov/mods/v3\" version=\"3.5\"><typeOfResource>text</typeOfResource><genre authority=\"marcgt\">issue</genre><part><detail><number>3</number></detail><date encoding=\"w3cdtf\">1886</date></part></mods>\n",
      "9574196\n",
      "<mods xmlns=\"http://www.loc.gov/mods/v3\" version=\"3.5\"><typeOfResource>text</typeOfResource><genre authority=\"marcgt\">issue</genre><part><detail><number>3</number></detail><date encoding=\"w3cdtf\">1886</date></part></mods>\n",
      "8238431\n",
      "<mods xmlns=\"http://www.loc.gov/mods/v3\" version=\"3.5\"><typeOfResource>text</typeOfResource><genre authority=\"marcgt\">issue</genre><part><detail><caption>1 (Januar-Februar 1929)</caption><number>1</number></detail><date encoding=\"w3cdtf\">1929-01</date></part></mods>\n",
      "7565914\n",
      "<mods xmlns=\"http://www.loc.gov/mods/v3\" version=\"3.5\"><typeOfResource>text</typeOfResource><part><date encoding=\"w3cdtf\">1905</date><detail><number>IX</number></detail></part><extension><vl:sourceinfo xmlns:vl=\"http://visuallibrary.net/vl\" caption=\"1905\" type=\"volume\" id=\"7565914\"/></extension></mods>\n",
      "7565916\n",
      "<mods xmlns=\"http://www.loc.gov/mods/v3\" version=\"3.5\"><typeOfResource>text</typeOfResource><part><date encoding=\"w3cdtf\">1906</date><detail><number>X</number></detail></part><extension><vl:sourceinfo xmlns:vl=\"http://visuallibrary.net/vl\" caption=\"1906\" type=\"volume\" id=\"7565916\"/></extension></mods>\n"
     ]
    }
   ],
   "execution_count": 34
  },
  {
   "metadata": {},
   "cell_type": "markdown",
   "source": [
    "# Load filename to meta\n",
    "\n",
    "File: filename_to_meta.json\n",
    "This file contains the mapping from the filename to the metadata of the file.\n",
    "The object is a dictionary with the filename as the key and the metadata as the value.\n",
    "The metadata is a dictionary with the following keys:\n",
    "    y - Year \n",
    "    j_id - Journal ID\n",
    "    jn - Journal Name\n",
    "    pdf - PDF (Boolean)\n",
    "    vlid - Volume ID\n",
    "    \n",
    "This can be matched to the corresponding metadata in the CM_Seiten_Metadata.csv file."
   ],
   "id": "43708c5b959934a0"
  },
  {
   "metadata": {
    "ExecuteTime": {
     "end_time": "2024-04-22T15:33:22.511231Z",
     "start_time": "2024-04-22T15:33:19.048804Z"
    }
   },
   "cell_type": "code",
   "source": [
    "import json\n",
    "\n",
    "with open(\"metadata/short_metadata/filename_to_meta.json\") as f:\n",
    "    data = json.load(f)\n",
    "\n",
    "journal_titles_from_meta = []\n",
    "# iterate over all the objects and print their keys\n",
    "for key in data:\n",
    "    print(key)\n",
    "    print(data[key].values())\n",
    "    journal_titles_from_meta.append(data[key]['jn'])\n",
    "    break\n",
    "    \n",
    "print(journal_titles_from_meta)\n",
    "\n",
    "\n",
    "# compare the titles from the metadata with the titles from the CM_Seiten_Metadata.csv file\n",
    "journal_titles = df['Zs_Caption'].unique()\n",
    "for title in journal_titles:\n",
    "    if title not in journal_titles_from_meta:\n",
    "        print(title)"
   ],
   "id": "189d404e48b9c739",
   "outputs": [
    {
     "name": "stdout",
     "output_type": "stream",
     "text": [
      "52596_9443938__02_52598\n",
      "dict_values(['1835', '52596', '... Bericht ueber den Verein für die Provinz Westfalen zur Bildung von Elementar-Lehrern und Befoerderung von Handwerken und Kuensten unter den Juden', True, '52598'])\n",
      "['... Bericht ueber den Verein für die Provinz Westfalen zur Bildung von Elementar-Lehrern und Befoerderung von Handwerken und Kuensten unter den Juden']\n"
     ]
    },
    {
     "ename": "KeyError",
     "evalue": "'Zs_Caption'",
     "output_type": "error",
     "traceback": [
      "\u001B[0;31m---------------------------------------------------------------------------\u001B[0m",
      "\u001B[0;31mKeyError\u001B[0m                                  Traceback (most recent call last)",
      "File \u001B[0;32m~/.venv/lib/python3.11/site-packages/pandas/core/indexes/base.py:3629\u001B[0m, in \u001B[0;36mIndex.get_loc\u001B[0;34m(self, key, method, tolerance)\u001B[0m\n\u001B[1;32m   3628\u001B[0m \u001B[38;5;28;01mtry\u001B[39;00m:\n\u001B[0;32m-> 3629\u001B[0m     \u001B[38;5;28;01mreturn\u001B[39;00m \u001B[38;5;28;43mself\u001B[39;49m\u001B[38;5;241;43m.\u001B[39;49m\u001B[43m_engine\u001B[49m\u001B[38;5;241;43m.\u001B[39;49m\u001B[43mget_loc\u001B[49m\u001B[43m(\u001B[49m\u001B[43mcasted_key\u001B[49m\u001B[43m)\u001B[49m\n\u001B[1;32m   3630\u001B[0m \u001B[38;5;28;01mexcept\u001B[39;00m \u001B[38;5;167;01mKeyError\u001B[39;00m \u001B[38;5;28;01mas\u001B[39;00m err:\n",
      "File \u001B[0;32m~/.venv/lib/python3.11/site-packages/pandas/_libs/index.pyx:136\u001B[0m, in \u001B[0;36mpandas._libs.index.IndexEngine.get_loc\u001B[0;34m()\u001B[0m\n",
      "File \u001B[0;32m~/.venv/lib/python3.11/site-packages/pandas/_libs/index.pyx:163\u001B[0m, in \u001B[0;36mpandas._libs.index.IndexEngine.get_loc\u001B[0;34m()\u001B[0m\n",
      "File \u001B[0;32mpandas/_libs/hashtable_class_helper.pxi:5198\u001B[0m, in \u001B[0;36mpandas._libs.hashtable.PyObjectHashTable.get_item\u001B[0;34m()\u001B[0m\n",
      "File \u001B[0;32mpandas/_libs/hashtable_class_helper.pxi:5206\u001B[0m, in \u001B[0;36mpandas._libs.hashtable.PyObjectHashTable.get_item\u001B[0;34m()\u001B[0m\n",
      "\u001B[0;31mKeyError\u001B[0m: 'Zs_Caption'",
      "\nThe above exception was the direct cause of the following exception:\n",
      "\u001B[0;31mKeyError\u001B[0m                                  Traceback (most recent call last)",
      "Cell \u001B[0;32mIn[41], line 18\u001B[0m\n\u001B[1;32m     14\u001B[0m \u001B[38;5;28mprint\u001B[39m(journal_titles_from_meta)\n\u001B[1;32m     17\u001B[0m \u001B[38;5;66;03m# compare the titles from the metadata with the titles from the CM_Seiten_Metadata.csv file\u001B[39;00m\n\u001B[0;32m---> 18\u001B[0m journal_titles \u001B[38;5;241m=\u001B[39m \u001B[43mdf\u001B[49m\u001B[43m[\u001B[49m\u001B[38;5;124;43m'\u001B[39;49m\u001B[38;5;124;43mZs_Caption\u001B[39;49m\u001B[38;5;124;43m'\u001B[39;49m\u001B[43m]\u001B[49m\u001B[38;5;241m.\u001B[39munique()\n\u001B[1;32m     19\u001B[0m \u001B[38;5;28;01mfor\u001B[39;00m title \u001B[38;5;129;01min\u001B[39;00m journal_titles:\n\u001B[1;32m     20\u001B[0m     \u001B[38;5;28;01mif\u001B[39;00m title \u001B[38;5;129;01mnot\u001B[39;00m \u001B[38;5;129;01min\u001B[39;00m journal_titles_from_meta:\n",
      "File \u001B[0;32m~/.venv/lib/python3.11/site-packages/pandas/core/frame.py:3505\u001B[0m, in \u001B[0;36mDataFrame.__getitem__\u001B[0;34m(self, key)\u001B[0m\n\u001B[1;32m   3503\u001B[0m \u001B[38;5;28;01mif\u001B[39;00m \u001B[38;5;28mself\u001B[39m\u001B[38;5;241m.\u001B[39mcolumns\u001B[38;5;241m.\u001B[39mnlevels \u001B[38;5;241m>\u001B[39m \u001B[38;5;241m1\u001B[39m:\n\u001B[1;32m   3504\u001B[0m     \u001B[38;5;28;01mreturn\u001B[39;00m \u001B[38;5;28mself\u001B[39m\u001B[38;5;241m.\u001B[39m_getitem_multilevel(key)\n\u001B[0;32m-> 3505\u001B[0m indexer \u001B[38;5;241m=\u001B[39m \u001B[38;5;28;43mself\u001B[39;49m\u001B[38;5;241;43m.\u001B[39;49m\u001B[43mcolumns\u001B[49m\u001B[38;5;241;43m.\u001B[39;49m\u001B[43mget_loc\u001B[49m\u001B[43m(\u001B[49m\u001B[43mkey\u001B[49m\u001B[43m)\u001B[49m\n\u001B[1;32m   3506\u001B[0m \u001B[38;5;28;01mif\u001B[39;00m is_integer(indexer):\n\u001B[1;32m   3507\u001B[0m     indexer \u001B[38;5;241m=\u001B[39m [indexer]\n",
      "File \u001B[0;32m~/.venv/lib/python3.11/site-packages/pandas/core/indexes/base.py:3631\u001B[0m, in \u001B[0;36mIndex.get_loc\u001B[0;34m(self, key, method, tolerance)\u001B[0m\n\u001B[1;32m   3629\u001B[0m     \u001B[38;5;28;01mreturn\u001B[39;00m \u001B[38;5;28mself\u001B[39m\u001B[38;5;241m.\u001B[39m_engine\u001B[38;5;241m.\u001B[39mget_loc(casted_key)\n\u001B[1;32m   3630\u001B[0m \u001B[38;5;28;01mexcept\u001B[39;00m \u001B[38;5;167;01mKeyError\u001B[39;00m \u001B[38;5;28;01mas\u001B[39;00m err:\n\u001B[0;32m-> 3631\u001B[0m     \u001B[38;5;28;01mraise\u001B[39;00m \u001B[38;5;167;01mKeyError\u001B[39;00m(key) \u001B[38;5;28;01mfrom\u001B[39;00m \u001B[38;5;21;01merr\u001B[39;00m\n\u001B[1;32m   3632\u001B[0m \u001B[38;5;28;01mexcept\u001B[39;00m \u001B[38;5;167;01mTypeError\u001B[39;00m:\n\u001B[1;32m   3633\u001B[0m     \u001B[38;5;66;03m# If we have a listlike key, _check_indexing_error will raise\u001B[39;00m\n\u001B[1;32m   3634\u001B[0m     \u001B[38;5;66;03m#  InvalidIndexError. Otherwise we fall through and re-raise\u001B[39;00m\n\u001B[1;32m   3635\u001B[0m     \u001B[38;5;66;03m#  the TypeError.\u001B[39;00m\n\u001B[1;32m   3636\u001B[0m     \u001B[38;5;28mself\u001B[39m\u001B[38;5;241m.\u001B[39m_check_indexing_error(key)\n",
      "\u001B[0;31mKeyError\u001B[0m: 'Zs_Caption'"
     ]
    }
   ],
   "execution_count": 41
  },
  {
   "metadata": {},
   "cell_type": "markdown",
   "source": [
    "# Load pages by year\n",
    "This file lists all the pages by year. The object is a dictionary with the year as the key and the list of pages as the value.\n",
    "\n",
    "The pages have the following format:\n",
    "\n",
    "Example: 2577043_2577044_2577045__0890_2577534\n",
    "\n",
    "OT_PATH --> 2577043||2577044||2577045||2577534\n",
    "But __0890_ is missing in the OT_PATH and unclear!\n",
    "\n",
    "They are represented in CM_Seiten_Metadata.csv as the column 'OT_PATH'.\n",
    "\n",
    "But the OT_PATH contains \"||\" instead of \"_\".\n",
    "\n",
    "\n",
    "It seems that the data is not correct."
   ],
   "id": "e182504744958f08"
  },
  {
   "metadata": {},
   "cell_type": "markdown",
   "source": "# Load the data from the JSON file",
   "id": "c76c58ad7c520d07"
  },
  {
   "metadata": {
    "ExecuteTime": {
     "end_time": "2024-04-22T15:44:35.848739Z",
     "start_time": "2024-04-22T15:44:35.422471Z"
    }
   },
   "cell_type": "code",
   "source": [
    "import json\n",
    "\n",
    "with open(\"metadata/short_metadata/pages_by_year.json\") as f:\n",
    "    data = json.load(f)\n",
    "\n",
    "# iterate over all the objects and print their keys\n",
    "for key in data:\n",
    "    print(key)\n",
    "    print(data[key])\n",
    "    break"
   ],
   "id": "891cb513976bb636",
   "outputs": [
    {
     "name": "stdout",
     "output_type": "stream",
     "text": [
      "1760\n",
      "['2577043_2577044_2577045__0890_2577534', '2577043_2577044_2577045__0891_2577535', '2577043_2577044_2577045__0892_2577536', '2577043_2577044_2577045__0893_2577537', '2577043_2577044_2577045__0894_2577538', '2577043_2577044_2577045__0895_2577539', '2577043_2577044_2577045__0896_2577540', '2577043_2577044_2577045__0897_2577541', '2577043_2577044_2577045__0898_2577542', '2577043_2577044_2577045__0899_2577543', '2577043_2577044_2577045__0900_2577544', '2577043_2577044_2577045__0901_2577545', '2577043_2577044_2577045__0902_2577546', '2577043_2577047_2577048__0003_2577078', '2577043_2577047_2577048__0004_2577079', '2577043_2577047_2577048__0005_2577080', '2577043_2577047_2577048__0006_2577081', '2577043_2577047_2577048__0007_2577082', '2577043_2577047_2577048__0008_2577083', '2577043_2577047_2577048__0009_2577084', '2577043_2577047_2577048__0010_2577085', '2577043_2577047_2577048__0011_2577086', '2577043_2577047_2577048__0012_2577087', '2577043_2577047_2577048__0013_2577088', '2577043_2577047_2577048__0014_2577089', '2577043_2577047_2577048__0015_2577090', '2577043_2577047_2577048__0016_2577091', '2577043_2577047_2577048__0017_2577092', '2577043_2577047_2577048__0018_2577093', '2577043_2577047_2577048__0019_2577094', '2577043_2577047_2577048__0020_2577095', '2577043_2577047_2577048__0021_2577096', '2577043_2577047_2577048__0022_2577097', '2577043_2577047_2577048__0023_2577098', '2577043_2577047_2577048__0024_2577099', '2577043_2577047_9903292__0179_2577244', '2577043_2577047_9903292__0180_2577245', '2577043_2577047_9903292__0181_2577246', '2577043_2577047_9903292__0182_2577247', '2577043_2577047_9903292__0183_2577248', '2577043_2577047_9903292__0184_2577249', '2577043_2577047_9903292__0185_2577250', '2577043_2577047_9903292__0186_2577251', '2577043_2577047_9903292__0187_2577252', '2577043_2577047_9903292__0188_2577253', '2577043_2577047_9903292__0189_2577254', '2577043_2577047_9903292__0190_2577255', '2577043_2577047_9903292__0191_2577256', '2577043_2577047_9903292__0192_2577257', '2577043_2577047_9903292__0193_2577258', '2577043_2577047_9903292__0194_2577259', '2577043_2577047_9903293__0026_2577100', '2577043_2577047_9903293__0027_2577101', '2577043_2577047_9903293__0028_2577102', '2577043_2577047_9903293__0029_2577103', '2577043_2577047_9903293__0030_2577104', '2577043_2577047_9903293__0031_2577105', '2577043_2577047_9903293__0032_2577106', '2577043_2577047_9903293__0033_2577107', '2577043_2577047_9903293__0034_2577108', '2577043_2577047_9903293__0035_2577109', '2577043_2577047_9903293__0036_2577110', '2577043_2577047_9903293__0037_2577111', '2577043_2577047_9903293__0038_2577112', '2577043_2577047_9903293__0039_2577113', '2577043_2577047_9903293__0040_2577114', '2577043_2577047_9903293__0041_2577115', '2577043_2577047_9903295__0043_2577116', '2577043_2577047_9903295__0044_2577117', '2577043_2577047_9903295__0045_2577118', '2577043_2577047_9903295__0046_2577119', '2577043_2577047_9903295__0047_2577120', '2577043_2577047_9903295__0048_2577121', '2577043_2577047_9903295__0049_2577122', '2577043_2577047_9903295__0050_2577123', '2577043_2577047_9903295__0051_2577124', '2577043_2577047_9903295__0052_2577125', '2577043_2577047_9903295__0053_2577126', '2577043_2577047_9903295__0054_2577127', '2577043_2577047_9903295__0055_2577128', '2577043_2577047_9903295__0056_2577129', '2577043_2577047_9903295__0057_2577130', '2577043_2577047_9903295__0058_2577131', '2577043_2577047_9903296__0060_2577132', '2577043_2577047_9903296__0061_2577133', '2577043_2577047_9903296__0062_2577134', '2577043_2577047_9903296__0063_2577135', '2577043_2577047_9903296__0064_2577136', '2577043_2577047_9903296__0065_2577137', '2577043_2577047_9903296__0066_2577138', '2577043_2577047_9903296__0067_2577139', '2577043_2577047_9903296__0068_2577140', '2577043_2577047_9903296__0069_2577141', '2577043_2577047_9903296__0070_2577142', '2577043_2577047_9903296__0071_2577143', '2577043_2577047_9903296__0072_2577144', '2577043_2577047_9903296__0073_2577145', '2577043_2577047_9903296__0074_2577146', '2577043_2577047_9903296__0075_2577147', '2577043_2577047_9903297__0077_2577148', '2577043_2577047_9903297__0078_2577149', '2577043_2577047_9903297__0079_2577150', '2577043_2577047_9903297__0080_2577151', '2577043_2577047_9903297__0081_2577152', '2577043_2577047_9903297__0082_2577153', '2577043_2577047_9903297__0083_2577154', '2577043_2577047_9903297__0084_2577155', '2577043_2577047_9903297__0085_2577156', '2577043_2577047_9903297__0086_2577157', '2577043_2577047_9903297__0087_2577158', '2577043_2577047_9903297__0088_2577159', '2577043_2577047_9903297__0089_2577160', '2577043_2577047_9903297__0090_2577161', '2577043_2577047_9903297__0091_2577162', '2577043_2577047_9903297__0092_2577163', '2577043_2577047_9903298__0094_2577164', '2577043_2577047_9903298__0095_2577165', '2577043_2577047_9903298__0096_2577166', '2577043_2577047_9903298__0097_2577167', '2577043_2577047_9903298__0098_2577168', '2577043_2577047_9903298__0099_2577169', '2577043_2577047_9903298__0100_2577170', '2577043_2577047_9903298__0101_2577171', '2577043_2577047_9903298__0102_2577172', '2577043_2577047_9903298__0103_2577173', '2577043_2577047_9903298__0104_2577174', '2577043_2577047_9903298__0105_2577175', '2577043_2577047_9903298__0106_2577176', '2577043_2577047_9903298__0107_2577177', '2577043_2577047_9903298__0108_2577178', '2577043_2577047_9903298__0109_2577179', '2577043_2577047_9903299__0111_2577180', '2577043_2577047_9903299__0112_2577181', '2577043_2577047_9903299__0113_2577182', '2577043_2577047_9903299__0114_2577183', '2577043_2577047_9903299__0115_2577184', '2577043_2577047_9903299__0116_2577185', '2577043_2577047_9903299__0117_2577186', '2577043_2577047_9903299__0118_2577187', '2577043_2577047_9903299__0119_2577188', '2577043_2577047_9903299__0120_2577189', '2577043_2577047_9903299__0121_2577190', '2577043_2577047_9903299__0122_2577191', '2577043_2577047_9903299__0123_2577192', '2577043_2577047_9903299__0124_2577193', '2577043_2577047_9903299__0125_2577194', '2577043_2577047_9903299__0126_2577195', '2577043_2577047_9903300__0128_2577196', '2577043_2577047_9903300__0129_2577197', '2577043_2577047_9903300__0130_2577198', '2577043_2577047_9903300__0131_2577199', '2577043_2577047_9903300__0132_2577200', '2577043_2577047_9903300__0133_2577201', '2577043_2577047_9903300__0134_2577202', '2577043_2577047_9903300__0135_2577203', '2577043_2577047_9903300__0136_2577204', '2577043_2577047_9903300__0137_2577205', '2577043_2577047_9903300__0138_2577206', '2577043_2577047_9903300__0139_2577207', '2577043_2577047_9903300__0140_2577208', '2577043_2577047_9903300__0141_2577209', '2577043_2577047_9903300__0142_2577210', '2577043_2577047_9903300__0143_2577211', '2577043_2577047_9903301__0145_2577212', '2577043_2577047_9903301__0146_2577213', '2577043_2577047_9903301__0147_2577214', '2577043_2577047_9903301__0148_2577215', '2577043_2577047_9903301__0149_2577216', '2577043_2577047_9903301__0150_2577217', '2577043_2577047_9903301__0151_2577218', '2577043_2577047_9903301__0152_2577219', '2577043_2577047_9903301__0153_2577220', '2577043_2577047_9903301__0154_2577221', '2577043_2577047_9903301__0155_2577222', '2577043_2577047_9903301__0156_2577223', '2577043_2577047_9903301__0157_2577224', '2577043_2577047_9903301__0158_2577225', '2577043_2577047_9903301__0159_2577226', '2577043_2577047_9903301__0160_2577227', '2577043_2577047_9903302__0162_2577228', '2577043_2577047_9903302__0163_2577229', '2577043_2577047_9903302__0164_2577230', '2577043_2577047_9903302__0165_2577231', '2577043_2577047_9903302__0166_2577232', '2577043_2577047_9903302__0167_2577233', '2577043_2577047_9903302__0168_2577234', '2577043_2577047_9903302__0169_2577235', '2577043_2577047_9903302__0170_2577236', '2577043_2577047_9903302__0171_2577237', '2577043_2577047_9903302__0172_2577238', '2577043_2577047_9903302__0173_2577239', '2577043_2577047_9903302__0174_2577240', '2577043_2577047_9903302__0175_2577241', '2577043_2577047_9903302__0176_2577242', '2577043_2577047_9903302__0177_2577243', '2577043_2577047_9903304__0196_2577260', '2577043_2577047_9903304__0197_2577261', '2577043_2577047_9903304__0198_2577262', '2577043_2577047_9903304__0199_2577263', '2577043_2577047_9903304__0200_2577264', '2577043_2577047_9903304__0201_2577265', '2577043_2577047_9903304__0202_2577266', '2577043_2577047_9903304__0203_2577267', '2577043_2577047_9903304__0204_2577268', '2577043_2577047_9903304__0205_2577269', '2577043_2577047_9903304__0206_2577270', '2577043_2577047_9903304__0207_2577271', '2577043_2577047_9903304__0208_2577272', '2577043_2577047_9903304__0209_2577273', '2577043_2577047_9903304__0210_2577274', '2577043_2577047_9903304__0211_2577275', '2577043_2577047_9903305__0213_2577276', '2577043_2577047_9903305__0214_2577277', '2577043_2577047_9903305__0215_2577278', '2577043_2577047_9903305__0216_2577279', '2577043_2577047_9903305__0217_2577280', '2577043_2577047_9903305__0218_2577281', '2577043_2577047_9903305__0219_2577282', '2577043_2577047_9903305__0220_2577283', '2577043_2577047_9903305__0221_2577284', '2577043_2577047_9903305__0222_2577285', '2577043_2577047_9903305__0223_2577286', '2577043_2577047_9903305__0224_2577287', '2577043_2577047_9903305__0225_2577288', '2577043_2577047_9903305__0226_2577289', '2577043_2577047_9903305__0227_2577290', '2577043_2577047_9903305__0228_2577291', '2577043_2577047_9903306__0230_2577292', '2577043_2577047_9903306__0231_2577293', '2577043_2577047_9903306__0232_2577294', '2577043_2577047_9903306__0233_2577295', '2577043_2577047_9903306__0234_2577296', '2577043_2577047_9903306__0235_2577297', '2577043_2577047_9903306__0236_2577298', '2577043_2577047_9903306__0237_2577299', '2577043_2577047_9903306__0238_2577300', '2577043_2577047_9903306__0239_2577301', '2577043_2577047_9903306__0240_2577302', '2577043_2577047_9903306__0241_2577303', '2577043_2577047_9903306__0242_2577304', '2577043_2577047_9903306__0243_2577305', '2577043_2577047_9903306__0244_2577306', '2577043_2577047_9903306__0245_2577307', '2577043_2577047_9903307__0247_2577308', '2577043_2577047_9903307__0248_2577309', '2577043_2577047_9903307__0249_2577310', '2577043_2577047_9903307__0250_2577311', '2577043_2577047_9903307__0251_2577312', '2577043_2577047_9903307__0252_2577313', '2577043_2577047_9903307__0253_2577314', '2577043_2577047_9903307__0254_2577315', '2577043_2577047_9903307__0255_2577316', '2577043_2577047_9903307__0256_2577317', '2577043_2577047_9903307__0257_2577318', '2577043_2577047_9903307__0258_2577319', '2577043_2577047_9903307__0259_2577320', '2577043_2577047_9903307__0260_2577321', '2577043_2577047_9903307__0261_2577322', '2577043_2577047_9903307__0262_2577323', '2577043_2577047_9903308__0264_2577324', '2577043_2577047_9903308__0265_2577325', '2577043_2577047_9903308__0266_2577326', '2577043_2577047_9903308__0267_2577327', '2577043_2577047_9903308__0268_2577328', '2577043_2577047_9903308__0269_2577329', '2577043_2577047_9903308__0270_2577330', '2577043_2577047_9903308__0271_2577331', '2577043_2577047_9903308__0272_2577332', '2577043_2577047_9903308__0273_2577333', '2577043_2577047_9903308__0274_2577334', '2577043_2577047_9903308__0275_2577335', '2577043_2577047_9903308__0276_2577336', '2577043_2577047_9903308__0277_2577337', '2577043_2577047_9903308__0278_2577338', '2577043_2577047_9903308__0279_2577339', '2577043_2577047_9903309__0281_2577340', '2577043_2577047_9903309__0282_2577341', '2577043_2577047_9903309__0283_2577342', '2577043_2577047_9903309__0284_2577343', '2577043_2577047_9903309__0285_2577344', '2577043_2577047_9903309__0286_2577345', '2577043_2577047_9903309__0287_2577346', '2577043_2577047_9903309__0288_2577347', '2577043_2577047_9903309__0289_2577348', '2577043_2577047_9903309__0290_2577349', '2577043_2577047_9903309__0291_2577350', '2577043_2577047_9903309__0292_2577351', '2577043_2577047_9903309__0293_2577352', '2577043_2577047_9903309__0294_2577353', '2577043_2577047_9903309__0295_2577354', '2577043_2577047_9903309__0296_2577355', '2577043_2577047_9903311__0298_2577356', '2577043_2577047_9903311__0299_2577357', '2577043_2577047_9903311__0300_2577358', '2577043_2577047_9903311__0301_2577359', '2577043_2577047_9903311__0302_2577360', '2577043_2577047_9903311__0303_2577361', '2577043_2577047_9903311__0304_2577362', '2577043_2577047_9903311__0305_2577363', '2577043_2577047_9903311__0306_2577364', '2577043_2577047_9903311__0307_2577365', '2577043_2577047_9903311__0308_2577366', '2577043_2577047_9903311__0309_2577367', '2577043_2577047_9903311__0310_2577368', '2577043_2577047_9903311__0311_2577369', '2577043_2577047_9903311__0312_2577370', '2577043_2577047_9903311__0313_2577371', '2577043_2577047_9903312__0468_2577516', '2577043_2577047_9903312__0469_2577517', '2577043_2577047_9903312__0470_2577518', '2577043_2577047_9903312__0471_2577519', '2577043_2577047_9903312__0472_2577520', '2577043_2577047_9903312__0473_2577521', '2577043_2577047_9903312__0474_2577522', '2577043_2577047_9903312__0475_2577523', '2577043_2577047_9903312__0476_2577524', '2577043_2577047_9903312__0477_2577525', '2577043_2577047_9903312__0478_2577526', '2577043_2577047_9903312__0479_2577527', '2577043_2577047_9903312__0480_2577528', '2577043_2577047_9903312__0481_2577529', '2577043_2577047_9903312__0482_2577530', '2577043_2577047_9903312__0483_2577531', '2577043_2577047_9903313__0451_2577500', '2577043_2577047_9903313__0452_2577501', '2577043_2577047_9903313__0453_2577502', '2577043_2577047_9903313__0454_2577503', '2577043_2577047_9903313__0455_2577504', '2577043_2577047_9903313__0456_2577505', '2577043_2577047_9903313__0457_2577506', '2577043_2577047_9903313__0458_2577507', '2577043_2577047_9903313__0459_2577508', '2577043_2577047_9903313__0460_2577509', '2577043_2577047_9903313__0461_2577510', '2577043_2577047_9903313__0462_2577511', '2577043_2577047_9903313__0463_2577512', '2577043_2577047_9903313__0464_2577513', '2577043_2577047_9903313__0465_2577514', '2577043_2577047_9903313__0466_2577515', '2577043_2577047_9903314__0434_2577484', '2577043_2577047_9903314__0435_2577485', '2577043_2577047_9903314__0436_2577486', '2577043_2577047_9903314__0437_2577487', '2577043_2577047_9903314__0438_2577488', '2577043_2577047_9903314__0439_2577489', '2577043_2577047_9903314__0440_2577490', '2577043_2577047_9903314__0441_2577491', '2577043_2577047_9903314__0442_2577492', '2577043_2577047_9903314__0443_2577493', '2577043_2577047_9903314__0444_2577494', '2577043_2577047_9903314__0445_2577495', '2577043_2577047_9903314__0446_2577496', '2577043_2577047_9903314__0447_2577497', '2577043_2577047_9903314__0448_2577498', '2577043_2577047_9903314__0449_2577499', '2577043_2577047_9903315__0417_2577468', '2577043_2577047_9903315__0418_2577469', '2577043_2577047_9903315__0419_2577470', '2577043_2577047_9903315__0420_2577471', '2577043_2577047_9903315__0421_2577472', '2577043_2577047_9903315__0422_2577473', '2577043_2577047_9903315__0423_2577474', '2577043_2577047_9903315__0424_2577475', '2577043_2577047_9903315__0425_2577476', '2577043_2577047_9903315__0426_2577477', '2577043_2577047_9903315__0427_2577478', '2577043_2577047_9903315__0428_2577479', '2577043_2577047_9903315__0429_2577480', '2577043_2577047_9903315__0430_2577481', '2577043_2577047_9903315__0431_2577482', '2577043_2577047_9903315__0432_2577483', '2577043_2577047_9903316__0400_2577452', '2577043_2577047_9903316__0401_2577453', '2577043_2577047_9903316__0402_2577454', '2577043_2577047_9903316__0403_2577455', '2577043_2577047_9903316__0404_2577456', '2577043_2577047_9903316__0405_2577457', '2577043_2577047_9903316__0406_2577458', '2577043_2577047_9903316__0407_2577459', '2577043_2577047_9903316__0408_2577460', '2577043_2577047_9903316__0409_2577461', '2577043_2577047_9903316__0410_2577462', '2577043_2577047_9903316__0411_2577463', '2577043_2577047_9903316__0412_2577464', '2577043_2577047_9903316__0413_2577465', '2577043_2577047_9903316__0414_2577466', '2577043_2577047_9903316__0415_2577467', '2577043_2577047_9903317__0383_2577436', '2577043_2577047_9903317__0384_2577437', '2577043_2577047_9903317__0385_2577438', '2577043_2577047_9903317__0386_2577439', '2577043_2577047_9903317__0387_2577440', '2577043_2577047_9903317__0388_2577441', '2577043_2577047_9903317__0389_2577442', '2577043_2577047_9903317__0390_2577443', '2577043_2577047_9903317__0391_2577444', '2577043_2577047_9903317__0392_2577445', '2577043_2577047_9903317__0393_2577446', '2577043_2577047_9903317__0394_2577447', '2577043_2577047_9903317__0395_2577448', '2577043_2577047_9903317__0396_2577449', '2577043_2577047_9903317__0397_2577450', '2577043_2577047_9903317__0398_2577451', '2577043_2577047_9903318__0366_2577420', '2577043_2577047_9903318__0367_2577421', '2577043_2577047_9903318__0368_2577422', '2577043_2577047_9903318__0369_2577423', '2577043_2577047_9903318__0370_2577424', '2577043_2577047_9903318__0371_2577425', '2577043_2577047_9903318__0372_2577426', '2577043_2577047_9903318__0373_2577427', '2577043_2577047_9903318__0374_2577428', '2577043_2577047_9903318__0375_2577429', '2577043_2577047_9903318__0376_2577430', '2577043_2577047_9903318__0377_2577431', '2577043_2577047_9903318__0378_2577432', '2577043_2577047_9903318__0379_2577433', '2577043_2577047_9903318__0380_2577434', '2577043_2577047_9903318__0381_2577435', '2577043_2577047_9903319__0349_2577404', '2577043_2577047_9903319__0350_2577405', '2577043_2577047_9903319__0351_2577406', '2577043_2577047_9903319__0352_2577407', '2577043_2577047_9903319__0353_2577408', '2577043_2577047_9903319__0354_2577409', '2577043_2577047_9903319__0355_2577410', '2577043_2577047_9903319__0356_2577411', '2577043_2577047_9903319__0357_2577412', '2577043_2577047_9903319__0358_2577413', '2577043_2577047_9903319__0359_2577414', '2577043_2577047_9903319__0360_2577415', '2577043_2577047_9903319__0361_2577416', '2577043_2577047_9903319__0362_2577417', '2577043_2577047_9903319__0363_2577418', '2577043_2577047_9903319__0364_2577419', '2577043_2577047_9903320__0332_2577388', '2577043_2577047_9903320__0333_2577389', '2577043_2577047_9903320__0334_2577390', '2577043_2577047_9903320__0335_2577391', '2577043_2577047_9903320__0336_2577392', '2577043_2577047_9903320__0337_2577393', '2577043_2577047_9903320__0338_2577394', '2577043_2577047_9903320__0339_2577395', '2577043_2577047_9903320__0340_2577396', '2577043_2577047_9903320__0341_2577397', '2577043_2577047_9903320__0342_2577398', '2577043_2577047_9903320__0343_2577399', '2577043_2577047_9903320__0344_2577400', '2577043_2577047_9903320__0345_2577401', '2577043_2577047_9903320__0346_2577402', '2577043_2577047_9903320__0347_2577403', '2577043_2577047_9903322__0315_2577372', '2577043_2577047_9903322__0316_2577373', '2577043_2577047_9903322__0317_2577374', '2577043_2577047_9903322__0318_2577375', '2577043_2577047_9903322__0319_2577376', '2577043_2577047_9903322__0320_2577377', '2577043_2577047_9903322__0321_2577378', '2577043_2577047_9903322__0322_2577379', '2577043_2577047_9903322__0323_2577380', '2577043_2577047_9903322__0324_2577381', '2577043_2577047_9903322__0325_2577382', '2577043_2577047_9903322__0326_2577383', '2577043_2577047_9903322__0327_2577384', '2577043_2577047_9903322__0328_2577385', '2577043_2577047_9903322__0329_2577386', '2577043_2577047_9903322__0330_2577387', '2577043_2577049_9903327__0486_2577951', '2577043_2577049_9903327__0487_2577952', '2577043_2577049_9903327__0488_2577953', '2577043_2577049_9903327__0489_2577954', '2577043_2577049_9903327__0490_2577955', '2577043_2577049_9903327__0491_2577956', '2577043_2577049_9903327__0492_2577957', '2577043_2577049_9903327__0493_2577958', '2577043_2577049_9903327__0494_2577959', '2577043_2577049_9903327__0495_2577960', '2577043_2577049_9903327__0496_2577961', '2577043_2577049_9903328__0498_2577962', '2577043_2577049_9903328__0499_2577963', '2577043_2577049_9903328__0500_2577964', '2577043_2577049_9903328__0501_2577965', '2577043_2577049_9903328__0502_2577966', '2577043_2577049_9903328__0503_2577967', '2577043_2577049_9903328__0504_2577968', '2577043_2577049_9903328__0505_2577969', '2577043_2577049_9903328__0506_2577970', '2577043_2577049_9903328__0507_2577971', '2577043_2577049_9903328__0508_2577972', '2577043_2577049_9903328__0509_2577973', '2577043_2577049_9903328__0510_2577974', '2577043_2577049_9903328__0511_2577975', '2577043_2577049_9903328__0512_2577976', '2577043_2577049_9903328__0513_2577977', '2577043_2577049_9903329__0515_2577978', '2577043_2577049_9903329__0516_2577979', '2577043_2577049_9903329__0517_2577980', '2577043_2577049_9903329__0518_2577981', '2577043_2577049_9903329__0519_2577982', '2577043_2577049_9903329__0520_2577983', '2577043_2577049_9903329__0521_2577984', '2577043_2577049_9903329__0522_2577985', '2577043_2577049_9903329__0523_2577986', '2577043_2577049_9903329__0524_2577987', '2577043_2577049_9903329__0525_2577988', '2577043_2577049_9903329__0526_2577989', '2577043_2577049_9903329__0527_2577990', '2577043_2577049_9903329__0528_2577991', '2577043_2577049_9903329__0529_2577992', '2577043_2577049_9903329__0530_2577993', '2577043_2577049_9903330__0532_2577994', '2577043_2577049_9903330__0533_2577995', '2577043_2577049_9903330__0534_2577996', '2577043_2577049_9903330__0535_2577997', '2577043_2577049_9903330__0536_2577998', '2577043_2577049_9903330__0537_2577999', '2577043_2577049_9903330__0538_2578000', '2577043_2577049_9903330__0539_2578001', '2577043_2577049_9903330__0540_2578002', '2577043_2577049_9903330__0541_2578003', '2577043_2577049_9903330__0542_2578004', '2577043_2577049_9903330__0543_2578005', '2577043_2577049_9903330__0544_2578006', '2577043_2577049_9903330__0545_2578007', '2577043_2577049_9903330__0546_2578008', '2577043_2577049_9903330__0547_2578009', '2577043_2577049_9903331__0549_2578010', '2577043_2577049_9903331__0550_2578011', '2577043_2577049_9903331__0551_2578012', '2577043_2577049_9903331__0552_2578013', '2577043_2577049_9903331__0553_2578014', '2577043_2577049_9903331__0554_2578015', '2577043_2577049_9903331__0555_2578016', '2577043_2577049_9903331__0556_2578017', '2577043_2577049_9903331__0557_2578018', '2577043_2577049_9903331__0558_2578019', '2577043_2577049_9903331__0559_2578020', '2577043_2577049_9903331__0560_2578021', '2577043_2577049_9903331__0561_2578022', '2577043_2577049_9903331__0562_2578023', '2577043_2577049_9903331__0563_2578024', '2577043_2577049_9903331__0564_2578025', '2577043_2577049_9903332__0566_2578026', '2577043_2577049_9903332__0567_2578027', '2577043_2577049_9903332__0568_2578028', '2577043_2577049_9903332__0569_2578029', '2577043_2577049_9903332__0570_2578030', '2577043_2577049_9903332__0571_2578031', '2577043_2577049_9903332__0572_2578032', '2577043_2577049_9903332__0573_2578033', '2577043_2577049_9903332__0574_2578034', '2577043_2577049_9903332__0575_2578035', '2577043_2577049_9903332__0576_2578036', '2577043_2577049_9903332__0577_2578037', '2577043_2577049_9903332__0578_2578038', '2577043_2577049_9903332__0579_2578039', '2577043_2577049_9903332__0580_2578040', '2577043_2577049_9903332__0581_2578041', '2577043_2577049_9903334__0583_2578042', '2577043_2577049_9903334__0584_2578043', '2577043_2577049_9903334__0585_2578044', '2577043_2577049_9903334__0586_2578045', '2577043_2577049_9903334__0587_2578046', '2577043_2577049_9903334__0588_2578047', '2577043_2577049_9903334__0589_2578048', '2577043_2577049_9903334__0590_2578049', '2577043_2577049_9903334__0591_2578050', '2577043_2577049_9903334__0592_2578051', '2577043_2577049_9903334__0593_2578052', '2577043_2577049_9903334__0594_2578053', '2577043_2577049_9903334__0595_2578054', '2577043_2577049_9903334__0596_2578055', '2577043_2577049_9903334__0597_2578056', '2577043_2577049_9903334__0598_2578057', '2577043_2577049_9903335__0600_2578058', '2577043_2577049_9903335__0601_2578059', '2577043_2577049_9903335__0602_2578060', '2577043_2577049_9903335__0603_2578061', '2577043_2577049_9903335__0604_2578062', '2577043_2577049_9903335__0605_2578063', '2577043_2577049_9903335__0606_2578064', '2577043_2577049_9903335__0607_2578065', '2577043_2577049_9903335__0608_2578066', '2577043_2577049_9903335__0609_2578067', '2577043_2577049_9903335__0610_2578068', '2577043_2577049_9903335__0611_2578069', '2577043_2577049_9903335__0612_2578070', '2577043_2577049_9903335__0613_2578071', '2577043_2577049_9903335__0614_2578072', '2577043_2577049_9903335__0615_2578073', '2577043_2577049_9903336__0617_2578074', '2577043_2577049_9903336__0618_2578075', '2577043_2577049_9903336__0619_2578076', '2577043_2577049_9903336__0620_2578077', '2577043_2577049_9903336__0621_2578078', '2577043_2577049_9903336__0622_2578079', '2577043_2577049_9903336__0623_2578080', '2577043_2577049_9903336__0624_2578081', '2577043_2577049_9903336__0625_2578082', '2577043_2577049_9903336__0626_2578083', '2577043_2577049_9903336__0627_2578084', '2577043_2577049_9903336__0628_2578085', '2577043_2577049_9903336__0629_2578086', '2577043_2577049_9903336__0630_2578087', '2577043_2577049_9903336__0631_2578088', '2577043_2577049_9903336__0632_2578089', '2577043_2577049_9903337__0634_2578090', '2577043_2577049_9903337__0635_2578091', '2577043_2577049_9903337__0636_2578092', '2577043_2577049_9903337__0637_2578093', '2577043_2577049_9903337__0638_2578094', '2577043_2577049_9903337__0639_2578095', '2577043_2577049_9903337__0640_2578096', '2577043_2577049_9903337__0641_2578097', '2577043_2577049_9903337__0642_2578098', '2577043_2577049_9903337__0643_2578099', '2577043_2577049_9903337__0644_2578100', '2577043_2577049_9903337__0645_2578101', '2577043_2577049_9903337__0646_2578102', '2577043_2577049_9903337__0647_2578103', '2577043_2577049_9903337__0648_2578104', '2577043_2577049_9903337__0649_2578105', '2577043_2577049_9903338__0651_2578106', '2577043_2577049_9903338__0652_2578107', '2577043_2577049_9903338__0653_2578108', '2577043_2577049_9903338__0654_2578109', '2577043_2577049_9903338__0655_2578110', '2577043_2577049_9903338__0656_2578111', '2577043_2577049_9903338__0657_2578112', '2577043_2577049_9903338__0658_2578113', '2577043_2577049_9903338__0659_2578114', '2577043_2577049_9903338__0660_2578115', '2577043_2577049_9903338__0661_2578116', '2577043_2577049_9903338__0662_2578117', '2577043_2577049_9903338__0663_2578118', '2577043_2577049_9903338__0664_2578119', '2577043_2577049_9903338__0665_2578120', '2577043_2577049_9903338__0666_2578121', '2577043_2577049_9903339__0668_2578122', '2577043_2577049_9903339__0669_2578123', '2577043_2577049_9903339__0670_2578124', '2577043_2577049_9903339__0671_2578125', '2577043_2577049_9903339__0672_2578126', '2577043_2577049_9903339__0673_2578127', '2577043_2577049_9903339__0674_2578128', '2577043_2577049_9903339__0675_2578129', '2577043_2577049_9903339__0676_2578130', '2577043_2577049_9903339__0677_2578131', '2577043_2577049_9903339__0678_2578132', '2577043_2577049_9903339__0679_2578133', '2577043_2577049_9903339__0680_2578134', '2577043_2577049_9903339__0681_2578135', '2577043_2577049_9903339__0682_2578136', '2577043_2577049_9903339__0683_2578137', '2577043_2577049_9903340__0685_2578138', '2577043_2577049_9903340__0686_2578139', '2577043_2577049_9903340__0687_2578140', '2577043_2577049_9903340__0688_2578141', '2577043_2577049_9903340__0689_2578142', '2577043_2577049_9903340__0690_2578143', '2577043_2577049_9903340__0691_2578144', '2577043_2577049_9903340__0692_2578145', '2577043_2577049_9903340__0693_2578146', '2577043_2577049_9903340__0694_2578147', '2577043_2577049_9903340__0695_2578148', '2577043_2577049_9903340__0696_2578149', '2577043_2577049_9903340__0697_2578150', '2577043_2577049_9903340__0698_2578151', '2577043_2577049_9903340__0699_2578152', '2577043_2577049_9903340__0700_2578153', '2577043_2577049_9903341__0702_2578154', '2577043_2577049_9903341__0703_2578155', '2577043_2577049_9903341__0704_2578156', '2577043_2577049_9903341__0705_2578157', '2577043_2577049_9903341__0706_2578158', '2577043_2577049_9903341__0707_2578159', '2577043_2577049_9903341__0708_2578160', '2577043_2577049_9903341__0709_2578161', '2577043_2577049_9903341__0710_2578162', '2577043_2577049_9903341__0711_2578163', '2577043_2577049_9903341__0712_2578164', '2577043_2577049_9903341__0713_2578165', '2577043_2577049_9903341__0714_2578166', '2577043_2577049_9903341__0715_2578167', '2577043_2577049_9903341__0716_2578168', '2577043_2577049_9903341__0717_2578169', '2577043_2577049_9903342__0719_2578170', '2577043_2577049_9903342__0720_2578171', '2577043_2577049_9903342__0721_2578172', '2577043_2577049_9903342__0722_2578173', '2577043_2577049_9903342__0723_2578174', '2577043_2577049_9903342__0724_2578175', '2577043_2577049_9903342__0725_2578176', '2577043_2577049_9903342__0726_2578177', '2577043_2577049_9903342__0727_2578178', '2577043_2577049_9903342__0728_2578179', '2577043_2577049_9903342__0729_2578180', '2577043_2577049_9903342__0730_2578181', '2577043_2577049_9903342__0731_2578182', '2577043_2577049_9903342__0732_2578183', '2577043_2577049_9903342__0733_2578184', '2577043_2577049_9903342__0734_2578185', '2577043_2577049_9903343__0736_2578186', '2577043_2577049_9903343__0737_2578187', '2577043_2577049_9903343__0738_2578188', '2577043_2577049_9903343__0739_2578189', '2577043_2577049_9903343__0740_2578190', '2577043_2577049_9903343__0741_2578191', '2577043_2577049_9903343__0742_2578192', '2577043_2577049_9903343__0743_2578193', '2577043_2577049_9903343__0744_2578194', '2577043_2577049_9903343__0745_2578195', '2577043_2577049_9903343__0746_2578196', '2577043_2577049_9903343__0747_2578197', '2577043_2577049_9903343__0748_2578198', '2577043_2577049_9903343__0749_2578199', '2577043_2577049_9903343__0750_2578200', '2577043_2577049_9903343__0751_2578201', '2577043_2577049_9903344__0753_2578202', '2577043_2577049_9903344__0754_2578203', '2577043_2577049_9903344__0755_2578204', '2577043_2577049_9903344__0756_2578205', '2577043_2577049_9903344__0757_2578206', '2577043_2577049_9903344__0758_2578207', '2577043_2577049_9903344__0759_2578208', '2577043_2577049_9903344__0760_2578209', '2577043_2577049_9903344__0761_2578210', '2577043_2577049_9903344__0762_2578211', '2577043_2577049_9903344__0763_2578212', '2577043_2577049_9903344__0764_2578213', '2577043_2577049_9903344__0765_2578214', '2577043_2577049_9903344__0766_2578215', '2577043_2577049_9903344__0767_2578216', '2577043_2577049_9903344__0768_2578217', '2577043_2577049_9903345__0770_2578218', '2577043_2577049_9903345__0771_2578219', '2577043_2577049_9903345__0772_2578220', '2577043_2577049_9903345__0773_2578221', '2577043_2577049_9903345__0774_2578222', '2577043_2577049_9903345__0775_2578223', '2577043_2577049_9903345__0776_2578224', '2577043_2577049_9903345__0777_2578225', '2577043_2577049_9903345__0778_2578226', '2577043_2577049_9903345__0779_2578227', '2577043_2577049_9903345__0780_2578228', '2577043_2577049_9903345__0781_2578229', '2577043_2577049_9903345__0782_2578230', '2577043_2577049_9903345__0783_2578231', '2577043_2577049_9903345__0784_2578232', '2577043_2577049_9903345__0785_2578233', '2577043_2577049_9903346__0787_2578234', '2577043_2577049_9903346__0788_2578235', '2577043_2577049_9903346__0789_2578236', '2577043_2577049_9903346__0790_2578237', '2577043_2577049_9903346__0791_2578238', '2577043_2577049_9903346__0792_2578239', '2577043_2577049_9903346__0793_2578240', '2577043_2577049_9903346__0794_2578241', '2577043_2577049_9903346__0795_2578242', '2577043_2577049_9903346__0796_2578243', '2577043_2577049_9903346__0797_2578244', '2577043_2577049_9903346__0798_2578245', '2577043_2577049_9903346__0799_2578246', '2577043_2577049_9903346__0800_2578247', '2577043_2577049_9903346__0801_2578248', '2577043_2577049_9903346__0802_2578249', '2577043_2577049_9903347__0804_2578250', '2577043_2577049_9903347__0805_2578251', '2577043_2577049_9903347__0806_2578252', '2577043_2577049_9903347__0807_2578253', '2577043_2577049_9903347__0808_2578254', '2577043_2577049_9903347__0809_2578255', '2577043_2577049_9903347__0810_2578256', '2577043_2577049_9903347__0811_2578257', '2577043_2577049_9903347__0812_2578258', '2577043_2577049_9903347__0813_2578259', '2577043_2577049_9903347__0814_2578260', '2577043_2577049_9903347__0815_2578261', '2577043_2577049_9903347__0816_2578262', '2577043_2577049_9903347__0817_2578263', '2577043_2577049_9903347__0818_2578264', '2577043_2577049_9903347__0819_2578265', '2577043_2577049_9903352__0821_2578266', '2577043_2577049_9903352__0822_2578267', '2577043_2577049_9903352__0823_2578268', '2577043_2577049_9903352__0824_2578269', '2577043_2577049_9903352__0825_2578270', '2577043_2577049_9903352__0826_2578271', '2577043_2577049_9903352__0827_2578272', '2577043_2577049_9903352__0828_2578273', '2577043_2577049_9903352__0829_2578274', '2577043_2577049_9903352__0830_2578275', '2577043_2577049_9903352__0831_2578276', '2577043_2577049_9903352__0832_2578277', '2577043_2577049_9903352__0833_2578278', '2577043_2577049_9903352__0834_2578279', '2577043_2577049_9903352__0835_2578280', '2577043_2577049_9903352__0836_2578281', '2577043_2577049_9903353__0838_2578282', '2577043_2577049_9903353__0839_2578283', '2577043_2577049_9903353__0840_2578284', '2577043_2577049_9903353__0841_2578285', '2577043_2577049_9903353__0842_2578286', '2577043_2577049_9903353__0843_2578287', '2577043_2577049_9903353__0844_2578288', '2577043_2577049_9903353__0845_2578289', '2577043_2577049_9903353__0846_2578290', '2577043_2577049_9903353__0847_2578291', '2577043_2577049_9903353__0848_2578292', '2577043_2577049_9903353__0849_2578293', '2577043_2577049_9903353__0850_2578294', '2577043_2577049_9903353__0851_2578295', '2577043_2577049_9903353__0852_2578296', '2577043_2577049_9903353__0853_2578297', '2577043_2577049_9903354__0855_2578298', '2577043_2577049_9903354__0856_2578299', '2577043_2577049_9903354__0857_2578300', '2577043_2577049_9903354__0858_2578301', '2577043_2577049_9903354__0859_2578302', '2577043_2577049_9903354__0860_2578303', '2577043_2577049_9903354__0861_2578304', '2577043_2577049_9903354__0862_2578305', '2577043_2577049_9903354__0863_2578306', '2577043_2577049_9903354__0864_2578307', '2577043_2577049_9903354__0865_2578308', '2577043_2577049_9903354__0866_2578309', '2577043_2577049_9903354__0867_2578310', '2577043_2577049_9903354__0868_2578311', '2577043_2577049_9903354__0869_2578312', '2577043_2577049_9903354__0870_2578313', '2577043_2577049_9903355__0872_2578314', '2577043_2577049_9903355__0873_2578315', '2577043_2577049_9903355__0874_2578316', '2577043_2577049_9903355__0875_2578317', '2577043_2577049_9903355__0876_2578318', '2577043_2577049_9903355__0877_2578319', '2577043_2577049_9903355__0878_2578320', '2577043_2577049_9903355__0879_2578321', '2577043_2577049_9903355__0880_2578322', '2577043_2577049_9903355__0881_2578323', '2577043_2577049_9903355__0882_2578324', '2577043_2577049_9903355__0883_2578325', '2577043_2577049_9903355__0884_2578326', '2577043_2577049_9903355__0885_2578327', '2577043_2577049_9903355__0886_2578328', '2577043_2577049_9903355__0887_2578329', '2577043_2577044_9903371__1315_2577933', '2577043_2577044_9903371__1316_2577934', '2577043_2577044_9903371__1317_2577935', '2577043_2577044_9903371__1318_2577936', '2577043_2577044_9903371__1319_2577937', '2577043_2577044_9903371__1320_2577938', '2577043_2577044_9903371__1321_2577939', '2577043_2577044_9903371__1322_2577940', '2577043_2577044_9903371__1323_2577941', '2577043_2577044_9903371__1324_2577942', '2577043_2577044_9903371__1325_2577943', '2577043_2577044_9903371__1326_2577944', '2577043_2577044_9903371__1327_2577945', '2577043_2577044_9903371__1328_2577946', '2577043_2577044_9903371__1329_2577947', '2577043_2577044_9903371__1330_2577948', '2577043_2577044_9903372__0904_2577547', '2577043_2577044_9903372__0905_2577548', '2577043_2577044_9903372__0906_2577549', '2577043_2577044_9903372__0907_2577550', '2577043_2577044_9903372__0908_2577551', '2577043_2577044_9903372__0909_2577552', '2577043_2577044_9903372__0910_2577553', '2577043_2577044_9903372__0911_2577554', '2577043_2577044_9903372__0912_2577555', '2577043_2577044_9903372__0913_2577556', '2577043_2577044_9903372__0914_2577557', '2577043_2577044_9903372__0915_2577558', '2577043_2577044_9903372__0916_2577559', '2577043_2577044_9903372__0917_2577560', '2577043_2577044_9903372__0918_2577561', '2577043_2577044_9903372__0919_2577562', '2577043_2577044_9903373__0921_2577563', '2577043_2577044_9903373__0922_2577564', '2577043_2577044_9903373__0923_2577565', '2577043_2577044_9903373__0924_2577566', '2577043_2577044_9903373__0925_2577567', '2577043_2577044_9903373__0926_2577568', '2577043_2577044_9903373__0927_2577569', '2577043_2577044_9903373__0928_2577570', '2577043_2577044_9903373__0929_2577571', '2577043_2577044_9903373__0930_2577572', '2577043_2577044_9903373__0931_2577573', '2577043_2577044_9903373__0932_2577574', '2577043_2577044_9903373__0933_2577575', '2577043_2577044_9903373__0934_2577576', '2577043_2577044_9903373__0935_2577577', '2577043_2577044_9903373__0936_2577578', '2577043_2577044_9903374__0938_2577579', '2577043_2577044_9903374__0939_2577580', '2577043_2577044_9903374__0940_2577581', '2577043_2577044_9903374__0941_2577582', '2577043_2577044_9903374__0942_2577583', '2577043_2577044_9903374__0943_2577584', '2577043_2577044_9903374__0944_2577585', '2577043_2577044_9903374__0945_2577586', '2577043_2577044_9903374__0946_2577587', '2577043_2577044_9903374__0947_2577588', '2577043_2577044_9903374__0948_2577589', '2577043_2577044_9903374__0949_2577590', '2577043_2577044_9903374__0950_2577591', '2577043_2577044_9903374__0951_2577592', '2577043_2577044_9903374__0952_2577593', '2577043_2577044_9903374__0953_2577594', '2577043_2577044_9903375__0955_2577595', '2577043_2577044_9903375__0956_2577596', '2577043_2577044_9903375__0957_2577597', '2577043_2577044_9903375__0958_2577598', '2577043_2577044_9903375__0959_2577599', '2577043_2577044_9903375__0960_2577600', '2577043_2577044_9903375__0961_2577601', '2577043_2577044_9903375__0962_2577602', '2577043_2577044_9903375__0963_2577603', '2577043_2577044_9903375__0964_2577604', '2577043_2577044_9903375__0965_2577605', '2577043_2577044_9903375__0966_2577606', '2577043_2577044_9903375__0967_2577607', '2577043_2577044_9903375__0968_2577608', '2577043_2577044_9903375__0969_2577609', '2577043_2577044_9903375__0970_2577610', '2577043_2577044_9903376__0972_2577611', '2577043_2577044_9903376__0973_2577612', '2577043_2577044_9903376__0974_2577613', '2577043_2577044_9903376__0975_2577614', '2577043_2577044_9903376__0976_2577615', '2577043_2577044_9903376__0977_2577616', '2577043_2577044_9903376__0978_2577617', '2577043_2577044_9903376__0979_2577618', '2577043_2577044_9903376__0980_2577619', '2577043_2577044_9903376__0981_2577620', '2577043_2577044_9903376__0982_2577621', '2577043_2577044_9903376__0983_2577622', '2577043_2577044_9903376__0984_2577623', '2577043_2577044_9903376__0985_2577624', '2577043_2577044_9903376__0986_2577625', '2577043_2577044_9903376__0987_2577626', '2577043_2577044_9903377__0989_2577627', '2577043_2577044_9903377__0990_2577628', '2577043_2577044_9903377__0991_2577629', '2577043_2577044_9903377__0992_2577630', '2577043_2577044_9903377__0993_2577631', '2577043_2577044_9903377__0994_2577632', '2577043_2577044_9903377__0995_2577633', '2577043_2577044_9903377__0996_2577634', '2577043_2577044_9903377__0997_2577635', '2577043_2577044_9903377__0998_2577636', '2577043_2577044_9903377__0999_2577637', '2577043_2577044_9903377__1000_2577638', '2577043_2577044_9903377__1001_2577639', '2577043_2577044_9903377__1002_2577640', '2577043_2577044_9903377__1003_2577641', '2577043_2577044_9903377__1004_2577642', '2577043_2577044_9903378__1006_2577643', '2577043_2577044_9903378__1007_2577644', '2577043_2577044_9903378__1008_2577645', '2577043_2577044_9903378__1009_2577646', '2577043_2577044_9903378__1010_2577647', '2577043_2577044_9903378__1011_2577648', '2577043_2577044_9903378__1012_2577649', '2577043_2577044_9903378__1013_2577650', '2577043_2577044_9903378__1014_2577651', '2577043_2577044_9903378__1015_2577652', '2577043_2577044_9903378__1016_2577653', '2577043_2577044_9903378__1017_2577654', '2577043_2577044_9903378__1018_2577655', '2577043_2577044_9903378__1019_2577656', '2577043_2577044_9903378__1020_2577657', '2577043_2577044_9903378__1021_2577658', '2577043_2577044_9903379__1023_2577659', '2577043_2577044_9903379__1024_2577660', '2577043_2577044_9903379__1025_2577661', '2577043_2577044_9903379__1026_2577662', '2577043_2577044_9903379__1027_2577663', '2577043_2577044_9903379__1028_2577664', '2577043_2577044_9903379__1029_2577665', '2577043_2577044_9903379__1030_2577666', '2577043_2577044_9903379__1031_2577667', '2577043_2577044_9903379__1032_2577668', '2577043_2577044_9903379__1033_2577669', '2577043_2577044_9903379__1034_2577670', '2577043_2577044_9903379__1035_2577671', '2577043_2577044_9903379__1036_2577672', '2577043_2577044_9903379__1037_2577673', '2577043_2577044_9903379__1038_2577674', '2577043_2577044_9903380__1040_2577675', '2577043_2577044_9903380__1041_2577676', '2577043_2577044_9903380__1042_2577677', '2577043_2577044_9903380__1043_2577678', '2577043_2577044_9903380__1044_2577679', '2577043_2577044_9903380__1045_2577680', '2577043_2577044_9903380__1046_2577681', '2577043_2577044_9903380__1047_2577682', '2577043_2577044_9903380__1048_2577683', '2577043_2577044_9903380__1049_2577684', '2577043_2577044_9903380__1050_2577685', '2577043_2577044_9903380__1051_2577686', '2577043_2577044_9903380__1052_2577687', '2577043_2577044_9903380__1053_2577688', '2577043_2577044_9903380__1054_2577689', '2577043_2577044_9903380__1055_2577690', '2577043_2577044_9903381__1057_2577691', '2577043_2577044_9903381__1058_2577692', '2577043_2577044_9903381__1059_2577693', '2577043_2577044_9903381__1060_2577694', '2577043_2577044_9903381__1061_2577695', '2577043_2577044_9903381__1062_2577696', '2577043_2577044_9903381__1063_2577697', '2577043_2577044_9903381__1064_2577698', '2577043_2577044_9903381__1065_2577699', '2577043_2577044_9903381__1066_2577700', '2577043_2577044_9903381__1067_2577701', '2577043_2577044_9903381__1068_2577702', '2577043_2577044_9903381__1069_2577703', '2577043_2577044_9903381__1070_2577704', '2577043_2577044_9903381__1071_2577705', '2577043_2577044_9903381__1072_2577706', '2577043_2577044_9903382__1074_2577707', '2577043_2577044_9903382__1075_2577708', '2577043_2577044_9903382__1076_2577709', '2577043_2577044_9903382__1077_2577710', '2577043_2577044_9903382__1078_2577711', '2577043_2577044_9903382__1079_2577712', '2577043_2577044_9903382__1080_2577713', '2577043_2577044_9903382__1081_2577714', '2577043_2577044_9903382__1082_2577715', '2577043_2577044_9903382__1083_2577716', '2577043_2577044_9903382__1084_2577717', '2577043_2577044_9903382__1085_2577718', '2577043_2577044_9903382__1086_2577719', '2577043_2577044_9903382__1087_2577720', '2577043_2577044_9903382__1088_2577721', '2577043_2577044_9903382__1089_2577722', '2577043_2577044_9903383__1091_2577723', '2577043_2577044_9903383__1092_2577724', '2577043_2577044_9903383__1093_2577725', '2577043_2577044_9903383__1094_2577726', '2577043_2577044_9903383__1095_2577727', '2577043_2577044_9903383__1096_2577728', '2577043_2577044_9903383__1097_2577729', '2577043_2577044_9903383__1098_2577730', '2577043_2577044_9903383__1099_2577731', '2577043_2577044_9903383__1100_2577732', '2577043_2577044_9903383__1101_2577733', '2577043_2577044_9903383__1102_2577734', '2577043_2577044_9903383__1103_2577735', '2577043_2577044_9903383__1104_2577736', '2577043_2577044_9903383__1105_2577737', '2577043_2577044_9903383__1106_2577738', '2577043_2577044_9903385__1108_2577739', '2577043_2577044_9903385__1109_2577740', '2577043_2577044_9903385__1110_2577741', '2577043_2577044_9903385__1111_2577742', '2577043_2577044_9903385__1112_2577743', '2577043_2577044_9903385__1113_2577744', '2577043_2577044_9903385__1114_2577745', '2577043_2577044_9903385__1115_2577746', '2577043_2577044_9903385__1116_2577747', '2577043_2577044_9903385__1117_2577748', '2577043_2577044_9903385__1118_2577749', '2577043_2577044_9903385__1119_2577750', '2577043_2577044_9903385__1120_2577751', '2577043_2577044_9903385__1121_2577752', '2577043_2577044_9903385__1122_2577753', '2577043_2577044_9903385__1123_2577754', '2577043_2577044_9903386__1125_2577755', '2577043_2577044_9903386__1126_2577756', '2577043_2577044_9903386__1127_2577757', '2577043_2577044_9903386__1128_2577758', '2577043_2577044_9903386__1129_2577759', '2577043_2577044_9903386__1130_2577760', '2577043_2577044_9903386__1131_2577761', '2577043_2577044_9903386__1132_2577762', '2577043_2577044_9903386__1133_2577763', '2577043_2577044_9903386__1134_2577764', '2577043_2577044_9903386__1135_2577765', '2577043_2577044_9903386__1136_2577766', '2577043_2577044_9903386__1137_2577767', '2577043_2577044_9903386__1138_2577768', '2577043_2577044_9903386__1139_2577769', '2577043_2577044_9903386__1140_2577770', '2577043_2577044_9903387__1145_2577771', '2577043_2577044_9903387__1146_2577772', '2577043_2577044_9903387__1147_2577773', '2577043_2577044_9903387__1148_2577774', '2577043_2577044_9903387__1149_2577775', '2577043_2577044_9903387__1150_2577776', '2577043_2577044_9903387__1151_2577777', '2577043_2577044_9903387__1152_2577778', '2577043_2577044_9903387__1153_2577779', '2577043_2577044_9903387__1154_2577780', '2577043_2577044_9903387__1155_2577781', '2577043_2577044_9903387__1156_2577782', '2577043_2577044_9903387__1157_2577783', '2577043_2577044_9903387__1158_2577786', '2577043_2577044_9903387__1159_2577787', '2577043_2577044_9903387__1160_2577788', '2577043_2577044_9903388__1162_2577789', '2577043_2577044_9903388__1163_2577790', '2577043_2577044_9903388__1164_2577791', '2577043_2577044_9903388__1165_2577792', '2577043_2577044_9903388__1166_2577793', '2577043_2577044_9903388__1167_2577794', '2577043_2577044_9903388__1168_2577795', '2577043_2577044_9903388__1169_2577796', '2577043_2577044_9903388__1170_2577797', '2577043_2577044_9903388__1171_2577798', '2577043_2577044_9903388__1172_2577799', '2577043_2577044_9903388__1173_2577800', '2577043_2577044_9903388__1174_2577801', '2577043_2577044_9903388__1175_2577802', '2577043_2577044_9903388__1176_2577803', '2577043_2577044_9903388__1177_2577804', '2577043_2577044_9903389__1179_2577805', '2577043_2577044_9903389__1180_2577806', '2577043_2577044_9903389__1181_2577807', '2577043_2577044_9903389__1182_2577808', '2577043_2577044_9903389__1183_2577809', '2577043_2577044_9903389__1184_2577810', '2577043_2577044_9903389__1185_2577811', '2577043_2577044_9903389__1186_2577812', '2577043_2577044_9903389__1187_2577813', '2577043_2577044_9903389__1188_2577814', '2577043_2577044_9903389__1189_2577815', '2577043_2577044_9903389__1190_2577816', '2577043_2577044_9903389__1191_2577817', '2577043_2577044_9903389__1192_2577818', '2577043_2577044_9903389__1193_2577819', '2577043_2577044_9903389__1194_2577820', '2577043_2577044_9903390__1196_2577821', '2577043_2577044_9903390__1197_2577822', '2577043_2577044_9903390__1198_2577823', '2577043_2577044_9903390__1199_2577824', '2577043_2577044_9903390__1200_2577825', '2577043_2577044_9903390__1201_2577826', '2577043_2577044_9903390__1202_2577827', '2577043_2577044_9903390__1203_2577828', '2577043_2577044_9903390__1204_2577829', '2577043_2577044_9903390__1205_2577830', '2577043_2577044_9903390__1206_2577831', '2577043_2577044_9903390__1207_2577832', '2577043_2577044_9903390__1208_2577833', '2577043_2577044_9903390__1209_2577834', '2577043_2577044_9903390__1210_2577835', '2577043_2577044_9903390__1211_2577836', '2577043_2577044_9903391__1213_2577837', '2577043_2577044_9903391__1214_2577838', '2577043_2577044_9903391__1215_2577839', '2577043_2577044_9903391__1216_2577840', '2577043_2577044_9903391__1217_2577841', '2577043_2577044_9903391__1218_2577842', '2577043_2577044_9903391__1219_2577843', '2577043_2577044_9903391__1220_2577844', '2577043_2577044_9903391__1221_2577845', '2577043_2577044_9903391__1222_2577846', '2577043_2577044_9903391__1223_2577847', '2577043_2577044_9903391__1224_2577848', '2577043_2577044_9903391__1225_2577849', '2577043_2577044_9903391__1226_2577850', '2577043_2577044_9903391__1227_2577851', '2577043_2577044_9903391__1228_2577852', '2577043_2577044_9903392__1230_2577853', '2577043_2577044_9903392__1231_2577854', '2577043_2577044_9903392__1232_2577855', '2577043_2577044_9903392__1233_2577856', '2577043_2577044_9903392__1234_2577857', '2577043_2577044_9903392__1235_2577858', '2577043_2577044_9903392__1236_2577859', '2577043_2577044_9903392__1237_2577860', '2577043_2577044_9903392__1238_2577861', '2577043_2577044_9903392__1239_2577862', '2577043_2577044_9903392__1240_2577863', '2577043_2577044_9903392__1241_2577864', '2577043_2577044_9903392__1242_2577865', '2577043_2577044_9903392__1243_2577866', '2577043_2577044_9903392__1244_2577867', '2577043_2577044_9903392__1245_2577868', '2577043_2577044_9903393__1247_2577869', '2577043_2577044_9903393__1248_2577870', '2577043_2577044_9903393__1249_2577871', '2577043_2577044_9903393__1250_2577872', '2577043_2577044_9903393__1251_2577873', '2577043_2577044_9903393__1252_2577874', '2577043_2577044_9903393__1253_2577875', '2577043_2577044_9903393__1254_2577876', '2577043_2577044_9903393__1255_2577877', '2577043_2577044_9903393__1256_2577878', '2577043_2577044_9903393__1257_2577879', '2577043_2577044_9903393__1258_2577880', '2577043_2577044_9903393__1259_2577881', '2577043_2577044_9903393__1260_2577882', '2577043_2577044_9903393__1261_2577883', '2577043_2577044_9903393__1262_2577884', '2577043_2577044_9903394__1264_2577885', '2577043_2577044_9903394__1265_2577886', '2577043_2577044_9903394__1266_2577887', '2577043_2577044_9903394__1267_2577888', '2577043_2577044_9903394__1268_2577889', '2577043_2577044_9903394__1269_2577890', '2577043_2577044_9903394__1270_2577891', '2577043_2577044_9903394__1271_2577892', '2577043_2577044_9903394__1272_2577893', '2577043_2577044_9903394__1273_2577894', '2577043_2577044_9903394__1274_2577895', '2577043_2577044_9903394__1275_2577896', '2577043_2577044_9903394__1276_2577897', '2577043_2577044_9903394__1277_2577898', '2577043_2577044_9903394__1278_2577899', '2577043_2577044_9903394__1279_2577900', '2577043_2577044_9903395__1281_2577901', '2577043_2577044_9903395__1282_2577902', '2577043_2577044_9903395__1283_2577903', '2577043_2577044_9903395__1284_2577904', '2577043_2577044_9903395__1285_2577905', '2577043_2577044_9903395__1286_2577906', '2577043_2577044_9903395__1287_2577907', '2577043_2577044_9903395__1288_2577908', '2577043_2577044_9903395__1289_2577909', '2577043_2577044_9903395__1290_2577910', '2577043_2577044_9903395__1291_2577911', '2577043_2577044_9903395__1292_2577912', '2577043_2577044_9903395__1293_2577913', '2577043_2577044_9903395__1294_2577914', '2577043_2577044_9903395__1295_2577915', '2577043_2577044_9903395__1296_2577916', '2577043_2577044_9903396__1298_2577917', '2577043_2577044_9903396__1299_2577918', '2577043_2577044_9903396__1300_2577919', '2577043_2577044_9903396__1301_2577920', '2577043_2577044_9903396__1302_2577921', '2577043_2577044_9903396__1303_2577922', '2577043_2577044_9903396__1304_2577923', '2577043_2577044_9903396__1305_2577924', '2577043_2577044_9903396__1306_2577925', '2577043_2577044_9903396__1307_2577926', '2577043_2577044_9903396__1308_2577927', '2577043_2577044_9903396__1309_2577928', '2577043_2577044_9903396__1310_2577929', '2577043_2577044_9903396__1311_2577930', '2577043_2577044_9903396__1312_2577931', '2577043_2577044_9903396__1313_2577932', '2577043_2577046_9903414__1348_2578346', '2577043_2577046_9903414__1349_2578347', '2577043_2577046_9903414__1350_2578348', '2577043_2577046_9903414__1351_2578349', '2577043_2577046_9903414__1352_2578350', '2577043_2577046_9903414__1353_2578351', '2577043_2577046_9903414__1354_2578352', '2577043_2577046_9903414__1355_2578353', '2577043_2577046_9903414__1356_2578354', '2577043_2577046_9903414__1357_2578355', '2577043_2577046_9903414__1358_2578356', '2577043_2577046_9903414__1359_2578357', '2577043_2577046_9903414__1360_2578358', '2577043_2577046_9903414__1361_2578359', '2577043_2577046_9903414__1362_2578360', '2577043_2577046_9903414__1363_2578361', '2577043_2577046_9903415__1333_2578332', '2577043_2577046_9903415__1334_2578333', '2577043_2577046_9903415__1335_2578334', '2577043_2577046_9903415__1336_2578335', '2577043_2577046_9903415__1337_2578336', '2577043_2577046_9903415__1338_2578337', '2577043_2577046_9903415__1339_2578338', '2577043_2577046_9903415__1340_2578339', '2577043_2577046_9903415__1341_2578340', '2577043_2577046_9903415__1342_2578341', '2577043_2577046_9903415__1343_2578342', '2577043_2577046_9903415__1344_2578343', '2577043_2577046_9903415__1345_2578344', '2577043_2577046_9903415__1346_2578345', '2577043_2577046_9903416__1365_2578362', '2577043_2577046_9903416__1366_2578363', '2577043_2577046_9903416__1367_2578364', '2577043_2577046_9903416__1368_2578365', '2577043_2577046_9903416__1369_2578366', '2577043_2577046_9903416__1370_2578367', '2577043_2577046_9903416__1371_2578368', '2577043_2577046_9903416__1372_2578369', '2577043_2577046_9903416__1373_2578370', '2577043_2577046_9903416__1374_2578371', '2577043_2577046_9903416__1375_2578372', '2577043_2577046_9903416__1376_2578373', '2577043_2577046_9903416__1377_2578374', '2577043_2577046_9903416__1378_2578375', '2577043_2577046_9903416__1379_2578376', '2577043_2577046_9903416__1380_2578377', '2577043_2577046_9903417__1382_2578378', '2577043_2577046_9903417__1383_2578379', '2577043_2577046_9903417__1384_2578380', '2577043_2577046_9903417__1385_2578381', '2577043_2577046_9903417__1386_2578382', '2577043_2577046_9903417__1387_2578383', '2577043_2577046_9903417__1388_2578384', '2577043_2577046_9903417__1389_2578385', '2577043_2577046_9903417__1390_2578386', '2577043_2577046_9903417__1391_2578387', '2577043_2577046_9903417__1392_2578388', '2577043_2577046_9903417__1393_2578389', '2577043_2577046_9903417__1394_2578390', '2577043_2577046_9903417__1395_2578391', '2577043_2577046_9903417__1396_2578392', '2577043_2577046_9903417__1397_2578393', '2577043_2577046_9903418__1399_2578394', '2577043_2577046_9903418__1400_2578395', '2577043_2577046_9903418__1401_2578396', '2577043_2577046_9903418__1402_2578397', '2577043_2577046_9903418__1403_2578398', '2577043_2577046_9903418__1404_2578399', '2577043_2577046_9903418__1405_2578400', '2577043_2577046_9903418__1406_2578401', '2577043_2577046_9903418__1407_2578402', '2577043_2577046_9903418__1408_2578403', '2577043_2577046_9903418__1409_2578404', '2577043_2577046_9903418__1410_2578405', '2577043_2577046_9903418__1411_2578406', '2577043_2577046_9903418__1412_2578407', '2577043_2577046_9903418__1413_2578408', '2577043_2577046_9903418__1414_2578409', '2577043_2577046_9903419__1416_2578410', '2577043_2577046_9903419__1417_2578411', '2577043_2577046_9903419__1418_2578412', '2577043_2577046_9903419__1419_2578413', '2577043_2577046_9903419__1420_2578414', '2577043_2577046_9903419__1421_2578415', '2577043_2577046_9903419__1422_2578416', '2577043_2577046_9903419__1423_2578417', '2577043_2577046_9903419__1424_2578418', '2577043_2577046_9903419__1425_2578419', '2577043_2577046_9903419__1426_2578420', '2577043_2577046_9903419__1427_2578421', '2577043_2577046_9903419__1428_2578422', '2577043_2577046_9903419__1429_2578423', '2577043_2577046_9903419__1430_2578424', '2577043_2577046_9903419__1431_2578425', '2577043_2577046_9903420__1433_2578426', '2577043_2577046_9903420__1434_2578427', '2577043_2577046_9903420__1435_2578428', '2577043_2577046_9903420__1436_2578429', '2577043_2577046_9903420__1437_2578430', '2577043_2577046_9903420__1438_2578431', '2577043_2577046_9903420__1439_2578432', '2577043_2577046_9903420__1440_2578433', '2577043_2577046_9903420__1441_2578434', '2577043_2577046_9903420__1442_2578435', '2577043_2577046_9903420__1443_2578436', '2577043_2577046_9903420__1444_2578437', '2577043_2577046_9903420__1445_2578438', '2577043_2577046_9903420__1446_2578439', '2577043_2577046_9903420__1447_2578440', '2577043_2577046_9903420__1448_2578441', '2577043_2577046_9903421__1450_2578442', '2577043_2577046_9903421__1451_2578443', '2577043_2577046_9903421__1452_2578444', '2577043_2577046_9903421__1453_2578445', '2577043_2577046_9903421__1454_2578446', '2577043_2577046_9903421__1455_2578447', '2577043_2577046_9903421__1456_2578448', '2577043_2577046_9903421__1457_2578449', '2577043_2577046_9903421__1458_2578450', '2577043_2577046_9903421__1459_2578451', '2577043_2577046_9903421__1460_2578452', '2577043_2577046_9903421__1461_2578453', '2577043_2577046_9903421__1462_2578454', '2577043_2577046_9903421__1463_2578455', '2577043_2577046_9903421__1464_2578456', '2577043_2577046_9903421__1465_2578457', '2577043_2577046_9903422__1467_2578458', '2577043_2577046_9903422__1468_2578459', '2577043_2577046_9903422__1469_2578460', '2577043_2577046_9903422__1470_2578461', '2577043_2577046_9903422__1471_2578462', '2577043_2577046_9903422__1472_2578463', '2577043_2577046_9903422__1473_2578464', '2577043_2577046_9903422__1474_2578465', '2577043_2577046_9903422__1475_2578466', '2577043_2577046_9903422__1476_2578467', '2577043_2577046_9903422__1477_2578468', '2577043_2577046_9903422__1478_2578469', '2577043_2577046_9903422__1479_2578470', '2577043_2577046_9903422__1480_2578471', '2577043_2577046_9903422__1481_2578472', '2577043_2577046_9903422__1482_2578473', '2577043_2577046_9903424__1484_2578474', '2577043_2577046_9903424__1485_2578475', '2577043_2577046_9903424__1486_2578476', '2577043_2577046_9903424__1487_2578477', '2577043_2577046_9903424__1488_2578478', '2577043_2577046_9903424__1489_2578479', '2577043_2577046_9903424__1490_2578480', '2577043_2577046_9903424__1491_2578481', '2577043_2577046_9903424__1492_2578482', '2577043_2577046_9903424__1493_2578483', '2577043_2577046_9903424__1494_2578484', '2577043_2577046_9903424__1495_2578485', '2577043_2577046_9903424__1496_2578486', '2577043_2577046_9903424__1497_2578487', '2577043_2577046_9903424__1498_2578488', '2577043_2577046_9903424__1499_2578489', '2577043_2577046_9903425__1501_2578490', '2577043_2577046_9903425__1502_2578491', '2577043_2577046_9903425__1503_2578492', '2577043_2577046_9903425__1504_2578493', '2577043_2577046_9903425__1505_2578494', '2577043_2577046_9903425__1506_2578495', '2577043_2577046_9903425__1507_2578496', '2577043_2577046_9903425__1508_2578497', '2577043_2577046_9903425__1509_2578498', '2577043_2577046_9903425__1510_2578499', '2577043_2577046_9903425__1511_2578500', '2577043_2577046_9903425__1512_2578501', '2577043_2577046_9903425__1513_2578502', '2577043_2577046_9903425__1514_2578503', '2577043_2577046_9903425__1515_2578504', '2577043_2577046_9903425__1516_2578505', '2577043_2577046_9903426__1518_2578506', '2577043_2577046_9903426__1519_2578507', '2577043_2577046_9903426__1520_2578508', '2577043_2577046_9903426__1521_2578509', '2577043_2577046_9903426__1522_2578510', '2577043_2577046_9903426__1523_2578511', '2577043_2577046_9903426__1524_2578512', '2577043_2577046_9903426__1525_2578513', '2577043_2577046_9903426__1526_2578514', '2577043_2577046_9903426__1527_2578515', '2577043_2577046_9903426__1528_2578516', '2577043_2577046_9903426__1529_2578517', '2577043_2577046_9903426__1530_2578518', '2577043_2577046_9903426__1531_2578519', '2577043_2577046_9903426__1532_2578520', '2577043_2577046_9903426__1533_2578521', '2577043_2577046_9903427__1535_2578522', '2577043_2577046_9903427__1536_2578523', '2577043_2577046_9903427__1537_2578524', '2577043_2577046_9903427__1538_2578525', '2577043_2577046_9903427__1539_2578526', '2577043_2577046_9903427__1540_2578527', '2577043_2577046_9903427__1541_2578528', '2577043_2577046_9903427__1542_2578529', '2577043_2577046_9903427__1543_2578530', '2577043_2577046_9903427__1544_2578531', '2577043_2577046_9903427__1545_2578532', '2577043_2577046_9903427__1546_2578533', '2577043_2577046_9903427__1547_2578534', '2577043_2577046_9903427__1548_2578535', '2577043_2577046_9903427__1549_2578536', '2577043_2577046_9903427__1550_2578537', '2577043_2577046_9903428__1552_2578538', '2577043_2577046_9903428__1553_2578539', '2577043_2577046_9903428__1554_2578540', '2577043_2577046_9903428__1555_2578541', '2577043_2577046_9903428__1556_2578542', '2577043_2577046_9903428__1557_2578543', '2577043_2577046_9903428__1558_2578544', '2577043_2577046_9903428__1559_2578545', '2577043_2577046_9903428__1560_2578546', '2577043_2577046_9903428__1561_2578547', '2577043_2577046_9903428__1562_2578548', '2577043_2577046_9903428__1563_2578549', '2577043_2577046_9903428__1564_2578550', '2577043_2577046_9903428__1565_2578551', '2577043_2577046_9903428__1566_2578552', '2577043_2577046_9903428__1567_2578553', '2577043_2577046_9903429__1569_2578554', '2577043_2577046_9903429__1570_2578555', '2577043_2577046_9903429__1571_2578556', '2577043_2577046_9903429__1572_2578557', '2577043_2577046_9903429__1573_2578558', '2577043_2577046_9903429__1574_2578559', '2577043_2577046_9903429__1575_2578560', '2577043_2577046_9903429__1576_2578561', '2577043_2577046_9903429__1577_2578562', '2577043_2577046_9903429__1578_2578563', '2577043_2577046_9903429__1579_2578564', '2577043_2577046_9903429__1580_2578565', '2577043_2577046_9903429__1581_2578566', '2577043_2577046_9903429__1582_2578567', '2577043_2577046_9903429__1583_2578568', '2577043_2577046_9903429__1584_2578569', '2577043_2577046_9903430__1586_2578570', '2577043_2577046_9903430__1587_2578571', '2577043_2577046_9903430__1588_2578572', '2577043_2577046_9903430__1589_2578573', '2577043_2577046_9903430__1590_2578574', '2577043_2577046_9903430__1591_2578575', '2577043_2577046_9903430__1592_2578576', '2577043_2577046_9903430__1593_2578577', '2577043_2577046_9903430__1594_2578578', '2577043_2577046_9903430__1595_2578579', '2577043_2577046_9903430__1596_2578580', '2577043_2577046_9903430__1597_2578581', '2577043_2577046_9903430__1598_2578582', '2577043_2577046_9903430__1599_2578583', '2577043_2577046_9903430__1600_2578584', '2577043_2577046_9903430__1601_2578585', '2577043_2577046_9903431__1603_2578586', '2577043_2577046_9903431__1604_2578587', '2577043_2577046_9903431__1605_2578588', '2577043_2577046_9903431__1606_2578589', '2577043_2577046_9903431__1607_2578590', '2577043_2577046_9903431__1608_2578591', '2577043_2577046_9903431__1609_2578592', '2577043_2577046_9903431__1610_2578593', '2577043_2577046_9903431__1611_2578594', '2577043_2577046_9903431__1612_2578595', '2577043_2577046_9903431__1613_2578596', '2577043_2577046_9903431__1614_2578597', '2577043_2577046_9903431__1615_2578598', '2577043_2577046_9903431__1616_2578599', '2577043_2577046_9903431__1617_2578600', '2577043_2577046_9903431__1618_2578601', '2577043_2577046_9903432__1620_2578602', '2577043_2577046_9903432__1621_2578603', '2577043_2577046_9903432__1622_2578604', '2577043_2577046_9903432__1623_2578605', '2577043_2577046_9903432__1624_2578606', '2577043_2577046_9903432__1625_2578607', '2577043_2577046_9903432__1626_2578608', '2577043_2577046_9903432__1627_2578609', '2577043_2577046_9903432__1628_2578610', '2577043_2577046_9903432__1629_2578611', '2577043_2577046_9903432__1630_2578612', '2577043_2577046_9903432__1631_2578613', '2577043_2577046_9903432__1632_2578614', '2577043_2577046_9903432__1633_2578615', '2577043_2577046_9903432__1634_2578616', '2577043_2577046_9903432__1635_2578617', '2577043_2577046_9903432__1636_2578618', '2577043_2577046_9903432__1637_2578619', '2577043_2577046_9903434__1639_2578620', '2577043_2577046_9903434__1640_2578621', '2577043_2577046_9903434__1641_2578622', '2577043_2577046_9903434__1642_2578623', '2577043_2577046_9903434__1643_2578624', '2577043_2577046_9903434__1644_2578625', '2577043_2577046_9903434__1645_2578626', '2577043_2577046_9903434__1646_2578627', '2577043_2577046_9903434__1647_2578628', '2577043_2577046_9903434__1648_2578629', '2577043_2577046_9903434__1649_2578630', '2577043_2577046_9903434__1650_2578631', '2577043_2577046_9903434__1651_2578632', '2577043_2577046_9903434__1652_2578633', '2577043_2577046_9903434__1653_2578634', '2577043_2577046_9903434__1654_2578635', '2577043_2577046_9903435__1656_2578636', '2577043_2577046_9903435__1657_2578637', '2577043_2577046_9903435__1658_2578638', '2577043_2577046_9903435__1659_2578639', '2577043_2577046_9903435__1660_2578640', '2577043_2577046_9903435__1661_2578641', '2577043_2577046_9903435__1662_2578642', '2577043_2577046_9903435__1663_2578643', '2577043_2577046_9903435__1664_2578644', '2577043_2577046_9903435__1665_2578645', '2577043_2577046_9903435__1666_2578646', '2577043_2577046_9903435__1667_2578647', '2577043_2577046_9903435__1668_2578648', '2577043_2577046_9903435__1669_2578649', '2577043_2577046_9903435__1670_2578650', '2577043_2577046_9903435__1671_2578651', '2577043_2577046_9903436__1673_2578652', '2577043_2577046_9903436__1674_2578653', '2577043_2577046_9903436__1675_2578654', '2577043_2577046_9903436__1676_2578655', '2577043_2577046_9903436__1677_2578656', '2577043_2577046_9903436__1678_2578657', '2577043_2577046_9903436__1679_2578658', '2577043_2577046_9903436__1680_2578659', '2577043_2577046_9903436__1681_2578660', '2577043_2577046_9903436__1682_2578661', '2577043_2577046_9903436__1683_2578662', '2577043_2577046_9903436__1684_2578663', '2577043_2577046_9903436__1685_2578664', '2577043_2577046_9903436__1686_2578665', '2577043_2577046_9903436__1687_2578666', '2577043_2577046_9903436__1688_2578667', '2577043_2577046_9903437__1690_2578668', '2577043_2577046_9903437__1691_2578669', '2577043_2577046_9903437__1692_2578670', '2577043_2577046_9903437__1693_2578671', '2577043_2577046_9903437__1694_2578672', '2577043_2577046_9903437__1695_2578673', '2577043_2577046_9903437__1696_2578674', '2577043_2577046_9903437__1697_2578675', '2577043_2577046_9903437__1698_2578676', '2577043_2577046_9903437__1699_2578677', '2577043_2577046_9903437__1700_2578678', '2577043_2577046_9903437__1701_2578679', '2577043_2577046_9903437__1702_2578680', '2577043_2577046_9903437__1703_2578681', '2577043_2577046_9903437__1704_2578682', '2577043_2577046_9903437__1705_2578683', '2577043_2577046_9903438__1707_2578684', '2577043_2577046_9903438__1708_2578685', '2577043_2577046_9903438__1709_2578686', '2577043_2577046_9903438__1710_2578687', '2577043_2577046_9903438__1711_2578688', '2577043_2577046_9903438__1712_2578689', '2577043_2577046_9903438__1713_2578690', '2577043_2577046_9903438__1714_2578691', '2577043_2577046_9903438__1715_2578692', '2577043_2577046_9903438__1716_2578693', '2577043_2577046_9903438__1717_2578694', '2577043_2577046_9903438__1718_2578695', '2577043_2577046_9903438__1719_2578696', '2577043_2577046_9903438__1720_2578697', '2577043_2577046_9903438__1721_2578698', '2577043_2577046_9903438__1722_2578699', '2577043_2577046_9903439__1724_2578700', '2577043_2577046_9903439__1725_2578701', '2577043_2577046_9903439__1726_2578702', '2577043_2577046_9903439__1727_2578703', '2577043_2577046_9903439__1728_2578704', '2577043_2577046_9903439__1729_2578705', '2577043_2577046_9903439__1730_2578706', '2577043_2577046_9903439__1731_2578707', '2577043_2577046_9903439__1732_2578708', '2577043_2577046_9903439__1733_2578709', '2577043_2577046_9903439__1734_2578710', '2577043_2577046_9903439__1735_2578711', '2577043_2577046_9903439__1736_2578712', '2577043_2577046_9903439__1737_2578713', '2577043_2577046_9903439__1738_2578714', '2577043_2577046_9903439__1739_2578715', '2577043_2577046_9903440__1741_2578716', '2577043_2577046_9903440__1742_2578717', '2577043_2577046_9903440__1743_2578718', '2577043_2577046_9903440__1744_2578719', '2577043_2577046_9903440__1745_2578720', '2577043_2577046_9903440__1746_2578721', '2577043_2577046_9903440__1747_2578722', '2577043_2577046_9903440__1748_2578723', '2577043_2577046_9903440__1749_2578724', '2577043_2577046_9903440__1750_2578725', '2577043_2577046_9903440__1751_2578726', '2577043_2577046_9903440__1752_2578727', '2577043_2577046_9903440__1753_2578728', '2577043_2577046_9903440__1754_2578729', '2577043_2577046_9903440__1755_2578730', '2577043_2577046_9903440__1756_2578731', '2577043_2577046_9903440__1757_2578732', '2577043_2577046_9903440__1758_2578733', '2577043_2577046_9903440__1759_2578734']\n"
     ]
    }
   ],
   "execution_count": 42
  },
  {
   "metadata": {},
   "cell_type": "code",
   "outputs": [],
   "execution_count": null,
   "source": "",
   "id": "cdf0ae254d40ec41"
  }
 ],
 "metadata": {
  "kernelspec": {
   "display_name": "Python 3",
   "language": "python",
   "name": "python3"
  },
  "language_info": {
   "codemirror_mode": {
    "name": "ipython",
    "version": 2
   },
   "file_extension": ".py",
   "mimetype": "text/x-python",
   "name": "python",
   "nbconvert_exporter": "python",
   "pygments_lexer": "ipython2",
   "version": "2.7.6"
  }
 },
 "nbformat": 4,
 "nbformat_minor": 5
}
